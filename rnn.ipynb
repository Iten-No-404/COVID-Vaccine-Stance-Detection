{
 "cells": [
  {
   "cell_type": "code",
   "execution_count": 1,
   "metadata": {},
   "outputs": [],
   "source": [
    "import pandas as pd\n",
    "import numpy as np\n",
    "import torch\n",
    "from torch.autograd import Variable \n",
    "from tqdm import tqdm"
   ]
  },
  {
   "cell_type": "code",
   "execution_count": 2,
   "metadata": {},
   "outputs": [],
   "source": [
    "def edit_categories(x):\n",
    "    if x == 'info_news':\n",
    "        return 0\n",
    "    elif x == 'celebrity':\n",
    "        return 1\n",
    "    elif x == 'plan':\n",
    "        return 2\n",
    "    elif x == 'requests':\n",
    "        return 3\n",
    "    elif x == 'rumors':\n",
    "        return 4\n",
    "    elif x == 'advice':\n",
    "        return 5\n",
    "    elif x == 'restrictions':\n",
    "        return 6\n",
    "    elif x == 'personal':\n",
    "        return 7\n",
    "    elif x == 'unrelated':\n",
    "        return 8\n",
    "    elif x == 'others':\n",
    "        return 9\n",
    "    else:\n",
    "        return -1"
   ]
  },
  {
   "cell_type": "code",
   "execution_count": 3,
   "metadata": {},
   "outputs": [],
   "source": [
    "'''\n",
    "\n",
    "# build the pytorch dataset\n",
    "class ArabertDataset(torch.utils.data.Dataset):\n",
    "    def __init__(self, dataset_path):\n",
    "        dataset = pd.read_pickle(dataset_path)\n",
    "        pad_embedding = torch.zeros(1, 768)\n",
    "        max_len = 0\n",
    "        embeddings = dataset['embeddings'].values\n",
    "        for i in range(len(embeddings)):\n",
    "            if embeddings[i].shape[0] > max_len:\n",
    "                max_len = embeddings[i].shape[0]\n",
    "        for i in range(len(embeddings)):\n",
    "            if embeddings[i].shape[0] < max_len:\n",
    "                pad = torch.zeros(max_len - embeddings[i].shape[0], 768).to(torch.device('cuda'))\n",
    "                embeddings[i] = torch.cat((embeddings[i], pad), dim=0)\n",
    "        categories = dataset['category'].apply(edit_categories)\n",
    "        self.embeddings = embeddings # already a tensor\n",
    "        self.stance = dataset['stance']\n",
    "        self.category = categories\n",
    "        self.stance = torch.tensor(self.stance.values)\n",
    "        self.category = torch.tensor(self.category.values)\n",
    "\n",
    "\n",
    "\n",
    "    def __len__(self):\n",
    "        return len(self.stance)\n",
    "\n",
    "    def __getitem__(self, idx):\n",
    "        return self.embeddings[idx], self.stance[idx], self.category[idx]\n",
    "\n",
    "'''"
   ]
  },
  {
   "cell_type": "code",
   "execution_count": null,
   "metadata": {},
   "outputs": [],
   "source": [
    "# build the pytorch dataset\n",
    "class ArabertDataset(torch.utils.data.Dataset):\n",
    "    def __init__(self):\n",
    "        embeddings = pd.read_pickle('dataset/train_arabert_not_padded.pkl')\n",
    "        pad_embedding = torch.zeros(1, 1, 768)\n",
    "        max_len = 0\n",
    "        for i in range(len(embeddings)):\n",
    "            if embeddings[i].shape[1] > max_len:\n",
    "                max_len = embeddings[i].shape[1]\n",
    "        for i in range(len(embeddings)):\n",
    "            if embeddings[i].shape[1] < max_len:\n",
    "                pad = torch.zeros(1, max_len - embeddings[i].shape[1], 768)\n",
    "                embeddings[i] = torch.cat((embeddings[i], pad), dim=1)\n",
    "            embeddings[i] = embeddings[i].view(max_len, 768)\n",
    "\n",
    "        labels = pd.read_csv('dataset/train.csv').drop('text', axis=1, inplace=False)\n",
    "        labels['category'] = labels['category'].apply(edit_categories)\n",
    "        #self.embeddings = embeddings # already a tensor\n",
    "        self.stance = labels['stance']\n",
    "\n",
    "        self.stance = self.stance + 1\n",
    "        self.category = labels['category']\n",
    "        #self.stance = torch.tensor(self.stance)\n",
    "        self.category = torch.tensor(self.category)\n",
    "\n",
    "\n",
    "        self.embeddings = Variable(embeddings)              # I saw someone doing this\n",
    "        self.stance = Variable(torch.Tensor(self.stance))\n",
    "\n",
    "\n",
    "    def __len__(self):\n",
    "        return len(self.stance)\n",
    "\n",
    "    def __getitem__(self, idx):\n",
    "        return self.embeddings[idx], self.stance[idx], self.category[idx]"
   ]
  },
  {
   "cell_type": "code",
   "execution_count": 4,
   "metadata": {},
   "outputs": [],
   "source": [
    "if torch.cuda.is_available():\n",
    "    device = torch.device('cuda')\n",
    "else:\n",
    "    device = torch.device('cpu')"
   ]
  },
  {
   "cell_type": "code",
   "execution_count": 5,
   "metadata": {},
   "outputs": [
    {
     "data": {
      "text/plain": [
       "True"
      ]
     },
     "execution_count": 5,
     "metadata": {},
     "output_type": "execute_result"
    }
   ],
   "source": [
    "torch.cuda.is_available()"
   ]
  },
  {
   "cell_type": "code",
   "execution_count": 6,
   "metadata": {},
   "outputs": [],
   "source": [
    "# build the pytorch dataloader\n",
    "train_dataset = ArabertDataset('output/train_1_arabert.pkl')\n",
    "train_loader = torch.utils.data.DataLoader(train_dataset, batch_size=64, shuffle=True)\n",
    "\n",
    "'''\n",
    "# build the model\n",
    "class RNN(torch.nn.Module):\n",
    "\n",
    "        def __init__(self, input_size, hidden_size, num_layers, num_classes):\n",
    "            super(RNN, self).__init__()\n",
    "        self.hidden_size = hidden_size\n",
    "        self.num_layers = num_layers\n",
    "        self.rnn = torch.nn.RNN(input_size, hidden_size, num_layers, batch_first=True)\n",
    "        self.fc = torch.nn.Linear(hidden_size, num_classes)\n",
    "\n",
    "\n",
    "\n",
    "\n",
    "    def forward(self, x):\n",
    "        h0 = torch.zeros(self.num_layers, x.size(0), self.hidden_size).to(device)\n",
    "\n",
    "        out, _ = self.rnn(x, h0)\n",
    "        out = self.fc(out[:, -1, :])\n",
    "        return out\n",
    "\n",
    "    '''\n",
    "\n"
   ]
  },
  {
   "cell_type": "code",
   "execution_count": null,
   "metadata": {},
   "outputs": [],
   "source": [
    "\n",
    "class RNN(torch.nn.Module):\n",
    "#I also saw him doing this\n",
    "\n",
    "    def __init__(self, num_classes, input_size, hidden_size, num_layers, seq_length):\n",
    "        super(RNN, self).__init__()\n",
    "        self.num_classes = num_classes #number of classes\n",
    "        self.num_layers = num_layers #number of layers\n",
    "        self.input_size = input_size #input size\n",
    "        self.hidden_size = hidden_size #hidden state\n",
    "        self.seq_length = seq_length #sequence length\n",
    "\n",
    "        self.lstm = torch.nn.LSTM(input_size=input_size, hidden_size=hidden_size,\n",
    "                          num_layers=num_layers, batch_first=True) #lstm\n",
    "        self.fc_1 =  torch.nn.Linear(hidden_size, 128) #fully connected 1\n",
    "        self.fc = torch.nn.Linear(128, num_classes) #fully connected last layer\n",
    "\n",
    "        self.relu = torch.nn.ReLU()\n",
    "    \n",
    "    def forward(self,x):\n",
    "        h_0 = Variable(torch.zeros(self.num_layers, x.size(0), self.hidden_size).to(device)) #hidden state\n",
    "        c_0 = Variable(torch.zeros(self.num_layers, x.size(0), self.hidden_size).to(device)) #internal state\n",
    "        # Propagate input through LSTM\n",
    "        output, (hn, cn) = self.lstm(x, (h_0, c_0)) #lstm with input, hidden, and internal state\n",
    "        hn = hn.view(-1, self.hidden_size) #reshaping the data for Dense layer next\n",
    "        out = self.relu(hn)\n",
    "        out = self.fc_1(out) #first Dense\n",
    "        out = self.relu(out) #relu\n",
    "        out = self.fc(out) #Final Output\n",
    "        return out"
   ]
  },
  {
   "cell_type": "code",
   "execution_count": 7,
   "metadata": {},
   "outputs": [
    {
     "name": "stderr",
     "output_type": "stream",
     "text": [
      "100%|██████████| 110/110 [00:10<00:00, 10.76it/s]\n",
      "  2%|▏         | 2/110 [00:00<00:09, 10.91it/s]"
     ]
    },
    {
     "name": "stdout",
     "output_type": "stream",
     "text": [
      "Epoch [1/10], Step [110/110], Loss: 1.0126\n",
      "Epoch [1/10], Step [110/110], Accuracy: 0.5000\n"
     ]
    },
    {
     "name": "stderr",
     "output_type": "stream",
     "text": [
      "100%|██████████| 110/110 [00:10<00:00, 10.81it/s]\n",
      "  2%|▏         | 2/110 [00:00<00:09, 10.86it/s]"
     ]
    },
    {
     "name": "stdout",
     "output_type": "stream",
     "text": [
      "Epoch [2/10], Step [110/110], Loss: 0.8392\n",
      "Epoch [2/10], Step [110/110], Accuracy: 0.6667\n"
     ]
    },
    {
     "name": "stderr",
     "output_type": "stream",
     "text": [
      "100%|██████████| 110/110 [00:10<00:00, 10.62it/s]\n",
      "  2%|▏         | 2/110 [00:00<00:10, 10.07it/s]"
     ]
    },
    {
     "name": "stdout",
     "output_type": "stream",
     "text": [
      "Epoch [3/10], Step [110/110], Loss: 0.8901\n",
      "Epoch [3/10], Step [110/110], Accuracy: 0.7500\n"
     ]
    },
    {
     "name": "stderr",
     "output_type": "stream",
     "text": [
      "100%|██████████| 110/110 [00:10<00:00, 10.65it/s]\n",
      "  2%|▏         | 2/110 [00:00<00:10, 10.67it/s]"
     ]
    },
    {
     "name": "stdout",
     "output_type": "stream",
     "text": [
      "Epoch [4/10], Step [110/110], Loss: 0.5482\n",
      "Epoch [4/10], Step [110/110], Accuracy: 0.8333\n"
     ]
    },
    {
     "name": "stderr",
     "output_type": "stream",
     "text": [
      "100%|██████████| 110/110 [00:10<00:00, 10.64it/s]\n",
      "  2%|▏         | 2/110 [00:00<00:10, 10.58it/s]"
     ]
    },
    {
     "name": "stdout",
     "output_type": "stream",
     "text": [
      "Epoch [5/10], Step [110/110], Loss: 0.7098\n",
      "Epoch [5/10], Step [110/110], Accuracy: 0.7500\n"
     ]
    },
    {
     "name": "stderr",
     "output_type": "stream",
     "text": [
      "100%|██████████| 110/110 [00:10<00:00, 10.62it/s]\n",
      "  2%|▏         | 2/110 [00:00<00:10, 10.39it/s]"
     ]
    },
    {
     "name": "stdout",
     "output_type": "stream",
     "text": [
      "Epoch [6/10], Step [110/110], Loss: 0.4360\n",
      "Epoch [6/10], Step [110/110], Accuracy: 0.8333\n"
     ]
    },
    {
     "name": "stderr",
     "output_type": "stream",
     "text": [
      "100%|██████████| 110/110 [00:10<00:00, 10.65it/s]\n",
      "  2%|▏         | 2/110 [00:00<00:10, 10.64it/s]"
     ]
    },
    {
     "name": "stdout",
     "output_type": "stream",
     "text": [
      "Epoch [7/10], Step [110/110], Loss: 0.1548\n",
      "Epoch [7/10], Step [110/110], Accuracy: 1.0000\n"
     ]
    },
    {
     "name": "stderr",
     "output_type": "stream",
     "text": [
      "100%|██████████| 110/110 [00:10<00:00, 10.64it/s]\n",
      "  2%|▏         | 2/110 [00:00<00:10, 10.79it/s]"
     ]
    },
    {
     "name": "stdout",
     "output_type": "stream",
     "text": [
      "Epoch [8/10], Step [110/110], Loss: 0.6748\n",
      "Epoch [8/10], Step [110/110], Accuracy: 0.8333\n"
     ]
    },
    {
     "name": "stderr",
     "output_type": "stream",
     "text": [
      "100%|██████████| 110/110 [00:10<00:00, 10.60it/s]\n",
      "  2%|▏         | 2/110 [00:00<00:10, 10.47it/s]"
     ]
    },
    {
     "name": "stdout",
     "output_type": "stream",
     "text": [
      "Epoch [9/10], Step [110/110], Loss: 0.8360\n",
      "Epoch [9/10], Step [110/110], Accuracy: 0.7500\n"
     ]
    },
    {
     "name": "stderr",
     "output_type": "stream",
     "text": [
      "100%|██████████| 110/110 [00:10<00:00, 10.63it/s]"
     ]
    },
    {
     "name": "stdout",
     "output_type": "stream",
     "text": [
      "Epoch [10/10], Step [110/110], Loss: 0.2328\n",
      "Epoch [10/10], Step [110/110], Accuracy: 1.0000\n"
     ]
    },
    {
     "name": "stderr",
     "output_type": "stream",
     "text": [
      "\n"
     ]
    }
   ],
   "source": [
    "# train the stance_model\n",
    "stance_model = RNN(768, 1024, 2, 3).to(device)\n",
    "criterion = torch.nn.CrossEntropyLoss()\n",
    "optimizer = torch.optim.Adam(stance_model.parameters(), lr=1e-3)\n",
    "stance_model.train()\n",
    "for epoch in range(10):\n",
    "    for i, (embedding, stance, category) in enumerate(tqdm(train_loader)):\n",
    "        embedding = embedding.to(device)\n",
    "        stance = stance.to(device)\n",
    "        category = category.to(device)\n",
    "\n",
    "        outputs = stance_model(embedding)\n",
    "        loss = criterion(outputs, stance)\n",
    "\n",
    "        optimizer.zero_grad()\n",
    "        loss.backward()\n",
    "        optimizer.step()\n",
    "\n",
    "        # calculate the total epoch accuracy\n",
    "        _, predicted = torch.max(outputs.data, 1)\n",
    "        total = stance.size(0)\n",
    "        correct = (predicted == stance).sum().item()\n",
    "        accuracy = correct / total\n",
    "\n",
    "        if (i+1) % len(train_loader) == 0:\n",
    "            print(f'Epoch [{epoch+1}/{10}], Step [{i+1}/{len(train_loader)}], Loss: {loss.item():.4f}')\n",
    "            print(f'Epoch [{epoch+1}/{10}], Step [{i+1}/{len(train_loader)}], Accuracy: {accuracy:.4f}')"
   ]
  },
  {
   "cell_type": "code",
   "execution_count": 8,
   "metadata": {},
   "outputs": [
    {
     "name": "stdout",
     "output_type": "stream",
     "text": [
      "Accuracy of the model on the dev set: 80.4%\n"
     ]
    }
   ],
   "source": [
    "# inference mode\n",
    "stance_model.eval()\n",
    "\n",
    "# load the dev set\n",
    "dev_dataset = ArabertDataset('output/dev_1_arabert.pkl')\n",
    "dev_loader = torch.utils.data.DataLoader(dev_dataset, batch_size=64, shuffle=True)\n",
    "\n",
    "# get accuracy on development set\n",
    "with torch.no_grad():\n",
    "    correct = 0\n",
    "    total = 0\n",
    "    for embedding, stance, category in dev_loader:\n",
    "        embedding = embedding.to(device)\n",
    "        stance = stance.to(device)\n",
    "        category = category.to(device)\n",
    "\n",
    "        outputs = stance_model(embedding)\n",
    "        _, predicted = torch.max(outputs.data, 1)\n",
    "        total += stance.size(0)\n",
    "        correct += (predicted == stance).sum().item()\n",
    "    print(f'Accuracy of the model on the dev set: {100 * correct / total}%')\n"
   ]
  },
  {
   "cell_type": "code",
   "execution_count": 9,
   "metadata": {},
   "outputs": [],
   "source": [
    "# Results\n",
    "# RNN + train_1_arabert.pkl --> 80.4% dev accuracy\n",
    "# RNN + train_2_arabert.pkl --> 71.0% dev accuracy\n",
    "# RNN + train_3_arabert.pkl --> 7.2% dev accuracy\n",
    "# RNN + train_4_arabert.pkl --> 28.9% dev accuracy"
   ]
  },
  {
   "cell_type": "code",
   "execution_count": 10,
   "metadata": {},
   "outputs": [
    {
     "name": "stderr",
     "output_type": "stream",
     "text": [
      "100%|██████████| 110/110 [00:07<00:00, 15.46it/s]\n",
      "  2%|▏         | 2/110 [00:00<00:06, 15.50it/s]"
     ]
    },
    {
     "name": "stdout",
     "output_type": "stream",
     "text": [
      "Epoch [1/10], Step [110/110], Loss: 1.8118\n",
      "Epoch [1/10], Step [110/110], Accuracy: 0.3333\n"
     ]
    },
    {
     "name": "stderr",
     "output_type": "stream",
     "text": [
      "100%|██████████| 110/110 [00:07<00:00, 15.62it/s]\n",
      "  2%|▏         | 2/110 [00:00<00:07, 15.39it/s]"
     ]
    },
    {
     "name": "stdout",
     "output_type": "stream",
     "text": [
      "Epoch [2/10], Step [110/110], Loss: 1.8754\n",
      "Epoch [2/10], Step [110/110], Accuracy: 0.4167\n"
     ]
    },
    {
     "name": "stderr",
     "output_type": "stream",
     "text": [
      "100%|██████████| 110/110 [00:07<00:00, 15.55it/s]\n",
      "  2%|▏         | 2/110 [00:00<00:06, 15.96it/s]"
     ]
    },
    {
     "name": "stdout",
     "output_type": "stream",
     "text": [
      "Epoch [3/10], Step [110/110], Loss: 1.8705\n",
      "Epoch [3/10], Step [110/110], Accuracy: 0.3333\n"
     ]
    },
    {
     "name": "stderr",
     "output_type": "stream",
     "text": [
      "100%|██████████| 110/110 [00:07<00:00, 15.71it/s]\n",
      "  2%|▏         | 2/110 [00:00<00:06, 15.77it/s]"
     ]
    },
    {
     "name": "stdout",
     "output_type": "stream",
     "text": [
      "Epoch [4/10], Step [110/110], Loss: 1.4215\n",
      "Epoch [4/10], Step [110/110], Accuracy: 0.5833\n"
     ]
    },
    {
     "name": "stderr",
     "output_type": "stream",
     "text": [
      "100%|██████████| 110/110 [00:06<00:00, 16.01it/s]\n",
      "  2%|▏         | 2/110 [00:00<00:06, 15.47it/s]"
     ]
    },
    {
     "name": "stdout",
     "output_type": "stream",
     "text": [
      "Epoch [5/10], Step [110/110], Loss: 1.6378\n",
      "Epoch [5/10], Step [110/110], Accuracy: 0.4167\n"
     ]
    },
    {
     "name": "stderr",
     "output_type": "stream",
     "text": [
      "100%|██████████| 110/110 [00:06<00:00, 15.96it/s]\n",
      "  2%|▏         | 2/110 [00:00<00:06, 16.06it/s]"
     ]
    },
    {
     "name": "stdout",
     "output_type": "stream",
     "text": [
      "Epoch [6/10], Step [110/110], Loss: 1.2903\n",
      "Epoch [6/10], Step [110/110], Accuracy: 0.5833\n"
     ]
    },
    {
     "name": "stderr",
     "output_type": "stream",
     "text": [
      "100%|██████████| 110/110 [00:07<00:00, 15.56it/s]\n",
      "  2%|▏         | 2/110 [00:00<00:06, 15.62it/s]"
     ]
    },
    {
     "name": "stdout",
     "output_type": "stream",
     "text": [
      "Epoch [7/10], Step [110/110], Loss: 1.8242\n",
      "Epoch [7/10], Step [110/110], Accuracy: 0.5000\n"
     ]
    },
    {
     "name": "stderr",
     "output_type": "stream",
     "text": [
      "100%|██████████| 110/110 [00:06<00:00, 15.76it/s]\n",
      "  2%|▏         | 2/110 [00:00<00:06, 15.77it/s]"
     ]
    },
    {
     "name": "stdout",
     "output_type": "stream",
     "text": [
      "Epoch [8/10], Step [110/110], Loss: 1.3903\n",
      "Epoch [8/10], Step [110/110], Accuracy: 0.6667\n"
     ]
    },
    {
     "name": "stderr",
     "output_type": "stream",
     "text": [
      "100%|██████████| 110/110 [00:06<00:00, 15.76it/s]\n",
      "  2%|▏         | 2/110 [00:00<00:06, 16.01it/s]"
     ]
    },
    {
     "name": "stdout",
     "output_type": "stream",
     "text": [
      "Epoch [9/10], Step [110/110], Loss: 2.0631\n",
      "Epoch [9/10], Step [110/110], Accuracy: 0.4167\n"
     ]
    },
    {
     "name": "stderr",
     "output_type": "stream",
     "text": [
      "100%|██████████| 110/110 [00:06<00:00, 16.26it/s]"
     ]
    },
    {
     "name": "stdout",
     "output_type": "stream",
     "text": [
      "Epoch [10/10], Step [110/110], Loss: 1.9842\n",
      "Epoch [10/10], Step [110/110], Accuracy: 0.2500\n"
     ]
    },
    {
     "name": "stderr",
     "output_type": "stream",
     "text": [
      "\n"
     ]
    }
   ],
   "source": [
    "# train the category_model\n",
    "category_model = RNN(768, 512, 4, 10).to(device)\n",
    "criterion = torch.nn.CrossEntropyLoss()\n",
    "optimizer = torch.optim.Adam(category_model.parameters(), lr=1e-3)\n",
    "category_model.train()\n",
    "for epoch in range(10):\n",
    "    for i, (embedding, stance, category) in enumerate(tqdm(train_loader)):\n",
    "        embedding = embedding.to(device)\n",
    "        stance = stance.to(device)\n",
    "        category = category.to(device)\n",
    "\n",
    "        outputs = category_model(embedding)\n",
    "        loss = criterion(outputs, category)\n",
    "\n",
    "        optimizer.zero_grad()\n",
    "        loss.backward()\n",
    "        optimizer.step()\n",
    "\n",
    "        # calculate the total epoch accuracy\n",
    "        _, predicted = torch.max(outputs.data, 1)\n",
    "        total = category.size(0)\n",
    "        correct = (predicted == category).sum().item()\n",
    "        accuracy = correct / total\n",
    "\n",
    "        if (i+1) % len(train_loader) == 0:\n",
    "            print(f'Epoch [{epoch+1}/{10}], Step [{i+1}/{len(train_loader)}], Loss: {loss.item():.4f}')\n",
    "            print(f'Epoch [{epoch+1}/{10}], Step [{i+1}/{len(train_loader)}], Accuracy: {accuracy:.4f}')"
   ]
  },
  {
   "cell_type": "code",
   "execution_count": 11,
   "metadata": {},
   "outputs": [
    {
     "name": "stdout",
     "output_type": "stream",
     "text": [
      "Accuracy of the model on the dev set: 50.6%\n"
     ]
    }
   ],
   "source": [
    "# inference mode\n",
    "category_model.eval()\n",
    "\n",
    "# load the dev set\n",
    "dev_dataset = ArabertDataset('output/dev_1_arabert.pkl')\n",
    "dev_loader = torch.utils.data.DataLoader(dev_dataset, batch_size=64, shuffle=True)\n",
    "\n",
    "# get accuracy on development set\n",
    "with torch.no_grad():\n",
    "    correct = 0\n",
    "    total = 0\n",
    "    for embedding, stance, category in dev_loader:\n",
    "        embedding = embedding.to(device)\n",
    "        stance = stance.to(device)\n",
    "        category = category.to(device)\n",
    "\n",
    "        outputs = category_model(embedding)\n",
    "        _, predicted = torch.max(outputs.data, 1)\n",
    "        total += category.size(0)\n",
    "        correct += (predicted == category).sum().item()\n",
    "    print(f'Accuracy of the model on the dev set: {100 * correct / total}%')\n"
   ]
  },
  {
   "cell_type": "code",
   "execution_count": 12,
   "metadata": {},
   "outputs": [],
   "source": [
    "# Results\n",
    "# RNN + train_1_arabert.pkl --> 54.5% dev accuracy\n",
    "# RNN + train_2_arabert.pkl --> 54.4% dev accuracy\n",
    "# RNN + train_3_arabert.pkl --> 7.2% dev accuracy\n",
    "# RNN + train_4_arabert.pkl --> 54.5% dev accuracy"
   ]
  }
 ],
 "metadata": {
  "kernelspec": {
   "display_name": "base",
   "language": "python",
   "name": "python3"
  },
  "language_info": {
   "codemirror_mode": {
    "name": "ipython",
    "version": 3
   },
   "file_extension": ".py",
   "mimetype": "text/x-python",
   "name": "python",
   "nbconvert_exporter": "python",
   "pygments_lexer": "ipython3",
   "version": "3.8.5 (default, Sep  4 2020, 07:30:14) \n[GCC 7.3.0]"
  },
  "orig_nbformat": 4,
  "vscode": {
   "interpreter": {
    "hash": "0eefc6a63c6d719296cee5685f23fefb92aa63e2e9fdaf52ddbdc4ce266c7bb3"
   }
  }
 },
 "nbformat": 4,
 "nbformat_minor": 2
}
