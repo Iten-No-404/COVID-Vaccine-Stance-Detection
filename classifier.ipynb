{
 "cells": [
  {
   "attachments": {},
   "cell_type": "markdown",
   "metadata": {},
   "source": [
    "#### Getting some features"
   ]
  },
  {
   "cell_type": "code",
   "execution_count": null,
   "metadata": {},
   "outputs": [],
   "source": [
    "%run feature_extraction.ipynb"
   ]
  },
  {
   "attachments": {},
   "cell_type": "markdown",
   "metadata": {},
   "source": [
    "#### Imports"
   ]
  },
  {
   "cell_type": "code",
   "execution_count": 712,
   "metadata": {},
   "outputs": [],
   "source": [
    "# imports\n",
    "import pandas as pd\n",
    "import numpy as np\n",
    "\n",
    "from sklearn.ensemble import RandomForestClassifier\n",
    "from sklearn.model_selection import StratifiedKFold\n",
    "import tqdm\n",
    "import numpy as np\n",
    "\n",
    "from sklearn.ensemble import RandomForestClassifier\n",
    "from sklearn import metrics\n",
    "from sklearn.model_selection import cross_val_score\n",
    "from sklearn.decomposition import PCA\n",
    "import torch\n",
    "#imports\n",
    "from numpy import mean\n",
    "from numpy import std\n",
    "from sklearn.datasets import make_classification\n",
    "from sklearn.model_selection import KFold\n",
    "from sklearn.model_selection import GridSearchCV\n",
    "from sklearn.ensemble import RandomForestClassifier\n",
    "from sklearn.metrics import accuracy_score"
   ]
  },
  {
   "attachments": {},
   "cell_type": "markdown",
   "metadata": {},
   "source": [
    "### Reading Data set"
   ]
  },
  {
   "cell_type": "code",
   "execution_count": 713,
   "metadata": {},
   "outputs": [],
   "source": [
    "# reading train data\n",
    "train_1=pd.read_pickle('output/train_3_original.pkl')\n",
    "# reading dev data\n",
    "dev_1=pd.read_pickle('output/dev_1_original.pkl')"
   ]
  },
  {
   "cell_type": "code",
   "execution_count": 714,
   "metadata": {},
   "outputs": [],
   "source": [
    "# change  category to be int\n",
    "def edit_categories(x):\n",
    "    if x == 'info_news':\n",
    "        return 0\n",
    "    elif x == 'celebrity':\n",
    "        return 1\n",
    "    elif x == 'plan':\n",
    "        return 2\n",
    "    elif x == 'requests':\n",
    "        return 3\n",
    "    elif x == 'rumors':\n",
    "        return 4\n",
    "    elif x == 'advice':\n",
    "        return 5\n",
    "    elif x == 'restrictions':\n",
    "        return 6\n",
    "    elif x == 'personal':\n",
    "        return 7\n",
    "    elif x == 'unrelated':\n",
    "        return 8\n",
    "    elif x == 'others':\n",
    "        return 9\n",
    "    else:\n",
    "        return -1"
   ]
  },
  {
   "cell_type": "code",
   "execution_count": 715,
   "metadata": {},
   "outputs": [],
   "source": [
    "# passing values for train\n",
    "sentences_train,stance_train,category_train =train_1.loc[:,\"tokens\"],train_1.loc[:,\"stance\"],train_1.loc[:,\"category\"].apply(edit_categories)"
   ]
  },
  {
   "cell_type": "code",
   "execution_count": 716,
   "metadata": {},
   "outputs": [],
   "source": [
    "#passing values for test\n",
    "sentences_dev,stance_dev,category_dev =dev_1.loc[:,\"tokens\"],dev_1.loc[:,\"stance\"],dev_1.loc[:,\"category\"].apply(edit_categories)"
   ]
  },
  {
   "cell_type": "code",
   "execution_count": 717,
   "metadata": {},
   "outputs": [
    {
     "name": "stdout",
     "output_type": "stream",
     "text": [
      "3000 3000 3000\n"
     ]
    }
   ],
   "source": [
    "#check passing is fine\n",
    "print(len(sentences_train),len(category_train),len(stance_train))"
   ]
  },
  {
   "cell_type": "code",
   "execution_count": 718,
   "metadata": {},
   "outputs": [
    {
     "name": "stdout",
     "output_type": "stream",
     "text": [
      "1000 1000 1000\n"
     ]
    }
   ],
   "source": [
    "#check passing is fine\n",
    "print(len(sentences_dev),len(category_dev),len(stance_dev))"
   ]
  },
  {
   "attachments": {},
   "cell_type": "markdown",
   "metadata": {},
   "source": [
    "### Some Preprocssing For Data set to use the features like TF-IDF"
   ]
  },
  {
   "cell_type": "code",
   "execution_count": 719,
   "metadata": {},
   "outputs": [],
   "source": [
    "# for tf-idf , you should send sentences\n",
    "def preprocessing_sentences_for_features(sentences):\n",
    "    new_sentences=[]\n",
    "    for sentence in sentences:\n",
    "        new_sentences.append(' '.join(sentence))\n",
    "    return new_sentences\n"
   ]
  },
  {
   "cell_type": "code",
   "execution_count": 720,
   "metadata": {},
   "outputs": [],
   "source": [
    "#get  new_sentences_train\n",
    "new_sentences_train=preprocessing_sentences_for_features(sentences_train)\n",
    "new_sentences_dev=preprocessing_sentences_for_features(sentences_dev)"
   ]
  },
  {
   "cell_type": "code",
   "execution_count": 721,
   "metadata": {},
   "outputs": [
    {
     "name": "stderr",
     "output_type": "stream",
     "text": [
      "c:\\Users\\rorod\\miniforge3\\envs\\new_python_nlp_2\\lib\\site-packages\\sklearn\\utils\\deprecation.py:87: FutureWarning: Function get_feature_names is deprecated; get_feature_names is deprecated in 1.0 and will be removed in 1.2. Please use get_feature_names_out instead.\n",
      "  warnings.warn(msg, category=FutureWarning)\n"
     ]
    }
   ],
   "source": [
    "#get tf -idf for training dta \n",
    "dict_res_train,tfIdf,tf_idf_train,tfIdfVectorizer=get_TF_IDF(new_sentences_train)"
   ]
  },
  {
   "cell_type": "code",
   "execution_count": 722,
   "metadata": {},
   "outputs": [
    {
     "name": "stdout",
     "output_type": "stream",
     "text": [
      "4485\n"
     ]
    }
   ],
   "source": [
    "print(len(tf_idf_train[0]))"
   ]
  },
  {
   "attachments": {},
   "cell_type": "markdown",
   "metadata": {},
   "source": [
    "### TF-IDF Preproccesing and Getting Data Of Testing\n",
    "It needs some handling"
   ]
  },
  {
   "cell_type": "code",
   "execution_count": 723,
   "metadata": {},
   "outputs": [],
   "source": [
    "# get unique words in training which is used in tf -df\n",
    "unique_words_train= tfIdfVectorizer.get_feature_names()"
   ]
  },
  {
   "cell_type": "code",
   "execution_count": 724,
   "metadata": {},
   "outputs": [
    {
     "name": "stdout",
     "output_type": "stream",
     "text": [
      "4485\n"
     ]
    }
   ],
   "source": [
    "print(len(unique_words_train))"
   ]
  },
  {
   "cell_type": "code",
   "execution_count": 725,
   "metadata": {},
   "outputs": [],
   "source": [
    "# for test or dev data , assume some words are new , so change them with word in train\n",
    "#choosing word is important , currently i random it with word has good probabitiy \n",
    "def change_test_set(sentences_dev, unique_words_train, changed_word ='قوة'):\n",
    "    new_sentences=[]\n",
    "    for sentence in sentences_dev:\n",
    "        new_sentence=[]\n",
    "        for word in sentence:\n",
    "            if ( word not in unique_words_train):\n",
    "                word = changed_word\n",
    "            new_sentence.append(word)\n",
    "        new_sentences.append(new_sentence)\n",
    "    return new_sentences"
   ]
  },
  {
   "cell_type": "code",
   "execution_count": 726,
   "metadata": {},
   "outputs": [],
   "source": [
    "#change sentences of dev for tf -idf \n",
    "# don't use them for n gram , in ngram i am doing smoothing\n",
    "sentences_dev_removed=change_test_set(sentences_dev,unique_words_train)"
   ]
  },
  {
   "cell_type": "code",
   "execution_count": 727,
   "metadata": {},
   "outputs": [],
   "source": [
    "#if you want use tf -idf use this code with test data\n",
    "new_sentences_dev_removed=[]\n",
    "#using new sentences of dev after removing new words by existing word\n",
    "# then convert tokens to sentences\n",
    "for sentence in sentences_dev_removed:\n",
    "    new_sentences_dev_removed.append(' '.join(sentence))\n",
    "tf_idf_dev=[]\n",
    "# using the same transformer in testing data\n",
    "tfIdf=tfIdfVectorizer.fit_transform(new_sentences_dev_removed)\n",
    "# here i get tf -idf for test\n",
    "for i in range(0,len(new_sentences_dev_removed)):\n",
    "        df = pd.DataFrame(tfIdf[0].T.todense(), index=tfIdfVectorizer.get_feature_names(), columns=[\"TF-IDF\"])\n",
    "        dict_res= preprocessing_tf_idf(i,tfIdfVectorizer,tfIdf)\n",
    "        tf_idf_currrent =[]\n",
    "        #here making sure the tf -idf for test with the same size of train\n",
    "        for word in unique_words_train:\n",
    "            if word in dict_res:\n",
    "                tf_idf_currrent.append(dict_res[word])\n",
    "            else:\n",
    "                tf_idf_currrent.append(0.0)\n",
    "        tf_idf_dev.append(tf_idf_currrent)\n"
   ]
  },
  {
   "cell_type": "code",
   "execution_count": 728,
   "metadata": {},
   "outputs": [
    {
     "name": "stdout",
     "output_type": "stream",
     "text": [
      "4485\n"
     ]
    }
   ],
   "source": [
    "print(len(tf_idf_dev[0]))"
   ]
  },
  {
   "cell_type": "code",
   "execution_count": 729,
   "metadata": {},
   "outputs": [],
   "source": [
    "# converting all to lists\n",
    "for i  in range(0,len(tf_idf_train)):\n",
    "    tf_idf_train[i]= list(tf_idf_train[i])\n",
    "for i in range(0,len(tf_idf_dev)):\n",
    "    tf_idf_dev[i]= list(tf_idf_dev[i])"
   ]
  },
  {
   "cell_type": "code",
   "execution_count": 730,
   "metadata": {},
   "outputs": [
    {
     "name": "stdout",
     "output_type": "stream",
     "text": [
      "4485 4485\n"
     ]
    }
   ],
   "source": [
    "#check they are the same\n",
    "print(len(tf_idf_dev[0]), len(tf_idf_train[0]))"
   ]
  },
  {
   "attachments": {},
   "cell_type": "markdown",
   "metadata": {},
   "source": [
    "### Get N-Gram Feature"
   ]
  },
  {
   "cell_type": "code",
   "execution_count": 731,
   "metadata": {},
   "outputs": [],
   "source": [
    "#get n gram for data\n",
    "prob_dev = convert_ngrams_probablities( 2,new_sentences_dev)\n",
    "prob_train = convert_ngrams_probablities( 2,new_sentences_train)"
   ]
  },
  {
   "cell_type": "code",
   "execution_count": 732,
   "metadata": {},
   "outputs": [
    {
     "name": "stdout",
     "output_type": "stream",
     "text": [
      "1000 3000\n"
     ]
    }
   ],
   "source": [
    "print(len(prob_dev),len(prob_train))"
   ]
  },
  {
   "attachments": {},
   "cell_type": "markdown",
   "metadata": {},
   "source": [
    "### Here I assign One Feature"
   ]
  },
  {
   "cell_type": "code",
   "execution_count": 733,
   "metadata": {},
   "outputs": [],
   "source": [
    "#currently i am using one feature change it when u want\n",
    "feature_train = tf_idf_train\n",
    "feature_dev =tf_idf_dev"
   ]
  },
  {
   "attachments": {},
   "cell_type": "markdown",
   "metadata": {},
   "source": [
    "### Get Word embedding Feature"
   ]
  },
  {
   "cell_type": "code",
   "execution_count": 734,
   "metadata": {},
   "outputs": [],
   "source": [
    "# Get CBOW & Skip Gram Features for training and dev\n",
    "X_train_cbow_w2v, X_train_sg_w2v = get_word_embeddings_features(sentences_train)\n",
    "X_dev_cbow_w2v, X_dev_sg_w2v = get_word_embeddings_features(sentences_dev)"
   ]
  },
  {
   "attachments": {},
   "cell_type": "markdown",
   "metadata": {},
   "source": [
    "### Handling Negative Values for models like Naive Bayes"
   ]
  },
  {
   "cell_type": "code",
   "execution_count": 735,
   "metadata": {},
   "outputs": [],
   "source": [
    "min_x_train_cbow =abs(np.min(X_train_cbow_w2v))\n",
    "min_x_dev_cbow= abs(np.min(X_dev_cbow_w2v))\n",
    "min_x_train_sg = abs(np.min(X_train_sg_w2v))\n",
    "min_x_dev_sg = abs(np.min(X_dev_sg_w2v))\n",
    "# get min then add it on cbow and sg if you want to use them in naive bayes"
   ]
  },
  {
   "cell_type": "code",
   "execution_count": null,
   "metadata": {},
   "outputs": [],
   "source": [
    "# feature_train=np.array(prob_train).reshape(-1,1)\n",
    "# feature_dev=np.array(prob_dev).reshape(-1,1)\n",
    "\n",
    "# for mixing features\n",
    "# feature_train=[]\n",
    "# feature_dev=[]\n",
    "# for i in range(0, len(sentences_train)):\n",
    "#     new_tf_idf_train= tf_idf_train[i]\n",
    "#     new_tf_idf_train.append(prob_train[i])\n",
    "#     new_feature= new_tf_idf_train\n",
    "#     # new_feature = np.concatenate((new_feature,X_train_sg_w2v[i]+min_x_train_sg))\n",
    "#     feature_train.append(new_feature)\n",
    "# for i in range(0,len(sentences_dev)):\n",
    "#     new_tf_idf_dev=tf_idf_dev[i]\n",
    "#     new_tf_idf_dev.append(prob_dev[i])\n",
    "#     feature_dev.append(new_feature)\n"
   ]
  },
  {
   "attachments": {},
   "cell_type": "markdown",
   "metadata": {},
   "source": [
    "### Random Forest"
   ]
  },
  {
   "cell_type": "code",
   "execution_count": 739,
   "metadata": {},
   "outputs": [],
   "source": [
    "#models imports\n",
    "from sklearn import metrics\n",
    "from sklearn.metrics import confusion_matrix\n",
    "from sklearn.metrics import accuracy_score\n",
    "from  matplotlib import pyplot "
   ]
  },
  {
   "attachments": {},
   "cell_type": "markdown",
   "metadata": {},
   "source": [
    "### Random Forest For stance"
   ]
  },
  {
   "cell_type": "code",
   "execution_count": 740,
   "metadata": {},
   "outputs": [],
   "source": [
    "values =np.linspace(1, 1000, num=1000) # for visulaizing"
   ]
  },
  {
   "cell_type": "code",
   "execution_count": 761,
   "metadata": {},
   "outputs": [
    {
     "name": "stdout",
     "output_type": "stream",
     "text": [
      " Model Accuracy is {70.0}\n",
      "70 126 804\n",
      " Model Accuracy is {69.1}\n",
      "70 126 804\n",
      " Model Accuracy is {70.6}\n",
      "70 126 804\n"
     ]
    }
   ],
   "source": [
    "# Boost 100 weak decision trees\n",
    "\n",
    "n_estimators = [50, 100, 150, 200, 250, 300, 350]\n",
    "train_scores=[]\n",
    "test_scores=[]\n",
    "for val in n_estimators:\n",
    "    model = RandomForestClassifier(n_estimators=val)\n",
    "    model = model.fit(feature_train, stance_train)\n",
    "    predictions = model.predict(feature_dev)\n",
    "    acc = {metrics.accuracy_score(stance_dev, predictions) * 100}\n",
    "    print(f\" Model Accuracy is {acc}\")\n",
    "    print(len(predictions[stance_dev==0]),len(predictions[stance_dev==1]),len(predictions[stance_dev==2]))\n",
    "    # print(metrics.classification_report(stance_dev,predictions))\n",
    "    train_score = accuracy_score(stance_train,model.predict(feature_train))\n",
    "    train_scores.append(train_score)\n",
    "    test_score = accuracy_score(stance_dev,model.predict(feature_dev))\n",
    "    test_scores.append(test_score)"
   ]
  },
  {
   "cell_type": "code",
   "execution_count": 742,
   "metadata": {},
   "outputs": [
    {
     "data": {
      "image/png": "[encoded data removed]",
      "text/plain": [
       "<Figure size 640x480 with 1 Axes>"
      ]
     },
     "metadata": {},
     "output_type": "display_data"
    }
   ],
   "source": [
    "# plot of train and test scores vs tree depth\n",
    "pyplot.plot(n_estimators, train_scores, '-o', label='Train')\n",
    "pyplot.plot(n_estimators, test_scores, '-o', label='Test')\n",
    "pyplot.legend()\n",
    "pyplot.show()"
   ]
  },
  {
   "cell_type": "code",
   "execution_count": 743,
   "metadata": {},
   "outputs": [
    {
     "name": "stdout",
     "output_type": "stream",
     "text": [
      "              precision    recall  f1-score   support\n",
      "\n",
      "           0       0.37      0.50      0.42        70\n",
      "           1       0.31      0.66      0.42       126\n",
      "           2       0.93      0.73      0.82       804\n",
      "\n",
      "    accuracy                           0.71      1000\n",
      "   macro avg       0.54      0.63      0.55      1000\n",
      "weighted avg       0.81      0.71      0.74      1000\n",
      "\n"
     ]
    }
   ],
   "source": [
    "print(metrics.classification_report(stance_dev,predictions))"
   ]
  },
  {
   "cell_type": "code",
   "execution_count": 744,
   "metadata": {},
   "outputs": [
    {
     "name": "stdout",
     "output_type": "stream",
     "text": [
      "[[ 35  20  15]\n",
      " [ 14  83  29]\n",
      " [ 46 168 590]]\n"
     ]
    }
   ],
   "source": [
    "cm = confusion_matrix(stance_dev, predictions)\n",
    "print(cm)"
   ]
  },
  {
   "attachments": {},
   "cell_type": "markdown",
   "metadata": {},
   "source": [
    "#### Random Forest For Category"
   ]
  },
  {
   "cell_type": "code",
   "execution_count": 745,
   "metadata": {},
   "outputs": [
    {
     "name": "stdout",
     "output_type": "stream",
     "text": [
      " Model Accuracy is {64.5}\n",
      " Model Accuracy is {64.5}\n",
      " Model Accuracy is {64.1}\n",
      " Model Accuracy is {64.0}\n",
      " Model Accuracy is {64.8}\n",
      " Model Accuracy is {64.7}\n",
      " Model Accuracy is {65.0}\n"
     ]
    }
   ],
   "source": [
    "# Boost 100 weak decision trees\n",
    "\n",
    "n_estimators = [50, 100, 150, 200, 250, 300, 350]\n",
    "train_scores=[]\n",
    "test_scores=[]\n",
    "for val in n_estimators:\n",
    "    model = RandomForestClassifier(n_estimators=val)\n",
    "    model = model.fit(feature_train, category_train)\n",
    "    predictions = model.predict(feature_dev)\n",
    "    acc = {metrics.accuracy_score(category_dev, predictions) * 100}\n",
    "    print(f\" Model Accuracy is {acc}\")\n",
    " \n",
    "    # print(metrics.classification_report(stance_dev,predictions))\n",
    "    train_score = accuracy_score(category_train,model.predict(feature_train))\n",
    "    train_scores.append(train_score)\n",
    "    test_score = accuracy_score(category_dev,model.predict(feature_dev))\n",
    "    test_scores.append(test_score)"
   ]
  },
  {
   "cell_type": "code",
   "execution_count": 746,
   "metadata": {},
   "outputs": [
    {
     "data": {
      "image/png": "[encoded data removed]",
      "text/plain": [
       "<Figure size 640x480 with 1 Axes>"
      ]
     },
     "metadata": {},
     "output_type": "display_data"
    }
   ],
   "source": [
    "pyplot.plot(n_estimators, train_scores, '-o', label='Train')\n",
    "pyplot.plot(n_estimators, test_scores, '-o', label='Test')\n",
    "pyplot.legend()\n",
    "pyplot.show()"
   ]
  },
  {
   "cell_type": "code",
   "execution_count": 747,
   "metadata": {},
   "outputs": [
    {
     "name": "stdout",
     "output_type": "stream",
     "text": [
      "train accuarcy 0.9896666666666667\n",
      " Model Accuracy is {65.0}\n"
     ]
    }
   ],
   "source": [
    "# for 350\n",
    "predictions = model.predict(feature_dev)\n",
    "acc = {metrics.accuracy_score(category_dev, predictions) * 100}\n",
    "train_score = accuracy_score(category_train,model.predict(feature_train))\n",
    "print(\"train accuarcy\", train_score)\n",
    "print(f\" Model Accuracy is {acc}\")"
   ]
  },
  {
   "cell_type": "code",
   "execution_count": 748,
   "metadata": {},
   "outputs": [
    {
     "name": "stdout",
     "output_type": "stream",
     "text": [
      "              precision    recall  f1-score   support\n",
      "\n",
      "           0       0.64      0.92      0.76       545\n",
      "           1       0.88      0.61      0.72       145\n",
      "           2       0.00      0.00      0.00        82\n",
      "           3       0.20      0.05      0.08        20\n",
      "           4       0.00      0.00      0.00        15\n",
      "           5       0.00      0.00      0.00        10\n",
      "           6       0.00      0.00      0.00         2\n",
      "           7       0.57      0.36      0.44       128\n",
      "           8       0.48      0.28      0.35        36\n",
      "           9       0.00      0.00      0.00        17\n",
      "\n",
      "    accuracy                           0.65      1000\n",
      "   macro avg       0.28      0.22      0.24      1000\n",
      "weighted avg       0.57      0.65      0.59      1000\n",
      "\n"
     ]
    },
    {
     "name": "stderr",
     "output_type": "stream",
     "text": [
      "c:\\Users\\rorod\\miniforge3\\envs\\new_python_nlp_2\\lib\\site-packages\\sklearn\\metrics\\_classification.py:1318: UndefinedMetricWarning: Precision and F-score are ill-defined and being set to 0.0 in labels with no predicted samples. Use `zero_division` parameter to control this behavior.\n",
      "  _warn_prf(average, modifier, msg_start, len(result))\n",
      "c:\\Users\\rorod\\miniforge3\\envs\\new_python_nlp_2\\lib\\site-packages\\sklearn\\metrics\\_classification.py:1318: UndefinedMetricWarning: Precision and F-score are ill-defined and being set to 0.0 in labels with no predicted samples. Use `zero_division` parameter to control this behavior.\n",
      "  _warn_prf(average, modifier, msg_start, len(result))\n",
      "c:\\Users\\rorod\\miniforge3\\envs\\new_python_nlp_2\\lib\\site-packages\\sklearn\\metrics\\_classification.py:1318: UndefinedMetricWarning: Precision and F-score are ill-defined and being set to 0.0 in labels with no predicted samples. Use `zero_division` parameter to control this behavior.\n",
      "  _warn_prf(average, modifier, msg_start, len(result))\n"
     ]
    }
   ],
   "source": [
    "print(metrics.classification_report(category_dev,predictions))"
   ]
  },
  {
   "attachments": {},
   "cell_type": "markdown",
   "metadata": {},
   "source": [
    "### SVM Model\n"
   ]
  },
  {
   "cell_type": "code",
   "execution_count": 749,
   "metadata": {},
   "outputs": [],
   "source": [
    "from sklearn.ensemble import RandomForestClassifier\n",
    "from sklearn.model_selection import StratifiedKFold\n",
    "from sklearn.metrics import roc_curve, auc, confusion_matrix\n"
   ]
  },
  {
   "attachments": {},
   "cell_type": "markdown",
   "metadata": {},
   "source": [
    "#### SVM For stance"
   ]
  },
  {
   "cell_type": "code",
   "execution_count": 750,
   "metadata": {},
   "outputs": [
    {
     "name": "stdout",
     "output_type": "stream",
     "text": [
      "train accuarcy 0.953\n",
      "67.4\n"
     ]
    }
   ],
   "source": [
    "import time\n",
    "from sklearn import svm,metrics\n",
    "\n",
    "\n",
    "classifier_linear = svm.SVC(kernel='linear')\n",
    "\n",
    "classifier_linear.fit(feature_train, stance_train)\n",
    "\n",
    "predictions  = classifier_linear.predict(feature_dev)\n",
    "train_score = accuracy_score(stance_train,classifier_linear.predict(feature_train))\n",
    "print(\"train accuarcy\", train_score)\n",
    "print(metrics.accuracy_score(stance_dev, predictions) * 100)\n",
    "\n"
   ]
  },
  {
   "cell_type": "code",
   "execution_count": 751,
   "metadata": {},
   "outputs": [
    {
     "name": "stdout",
     "output_type": "stream",
     "text": [
      "              precision    recall  f1-score   support\n",
      "\n",
      "           0       0.24      0.49      0.32        70\n",
      "           1       0.27      0.54      0.36       126\n",
      "           2       0.94      0.71      0.81       804\n",
      "\n",
      "    accuracy                           0.67      1000\n",
      "   macro avg       0.48      0.58      0.50      1000\n",
      "weighted avg       0.81      0.67      0.72      1000\n",
      "\n"
     ]
    }
   ],
   "source": [
    "print(metrics.classification_report(stance_dev,predictions))"
   ]
  },
  {
   "attachments": {},
   "cell_type": "markdown",
   "metadata": {},
   "source": [
    "#### SVM For Category"
   ]
  },
  {
   "cell_type": "code",
   "execution_count": 752,
   "metadata": {},
   "outputs": [
    {
     "name": "stdout",
     "output_type": "stream",
     "text": [
      "train accuarcy 0.9046666666666666\n",
      "65.10000000000001\n"
     ]
    }
   ],
   "source": [
    "\n",
    "classifier_linear = svm.SVC(kernel='linear')\n",
    "\n",
    "classifier_linear.fit(feature_train, category_train)\n",
    "predictions  = classifier_linear.predict(feature_dev)\n",
    "train_score = accuracy_score(category_train,classifier_linear.predict(feature_train))\n",
    "print(\"train accuarcy\", train_score)\n",
    "print(metrics.accuracy_score(category_dev, predictions) * 100)\n"
   ]
  },
  {
   "cell_type": "code",
   "execution_count": null,
   "metadata": {},
   "outputs": [],
   "source": [
    "print(metrics.classification_report(category_dev,predictions))"
   ]
  },
  {
   "attachments": {},
   "cell_type": "markdown",
   "metadata": {},
   "source": [
    "### Naive Bayes"
   ]
  },
  {
   "attachments": {},
   "cell_type": "markdown",
   "metadata": {},
   "source": [
    "#### Naive Bayes For stance"
   ]
  },
  {
   "cell_type": "code",
   "execution_count": 753,
   "metadata": {},
   "outputs": [],
   "source": [
    "# Create model(naive bayes) and training. \n",
    "from sklearn.naive_bayes import MultinomialNB\n",
    "clf = MultinomialNB().fit(feature_train, stance_train)"
   ]
  },
  {
   "cell_type": "code",
   "execution_count": 754,
   "metadata": {},
   "outputs": [
    {
     "name": "stdout",
     "output_type": "stream",
     "text": [
      "train accuarcy 0.8686666666666667\n",
      "Accuracy: 69.39999999999999\n",
      "70\n",
      "126\n",
      "804\n"
     ]
    }
   ],
   "source": [
    "predicted = clf.predict(feature_dev)\n",
    "# Model Accuracy, how often is the classifier correct?\n",
    "train_score = accuracy_score(stance_train,clf.predict(feature_train))\n",
    "print(\"train accuarcy\", train_score)\n",
    "print(\"Accuracy:\",metrics.accuracy_score(stance_dev, predicted)*100)\n",
    "print(len(predicted[stance_dev==0]))\n",
    "print(len(predicted[stance_dev==1]))\n",
    "print(len(predicted[stance_dev==2]))"
   ]
  },
  {
   "cell_type": "code",
   "execution_count": 755,
   "metadata": {},
   "outputs": [
    {
     "name": "stdout",
     "output_type": "stream",
     "text": [
      "              precision    recall  f1-score   support\n",
      "\n",
      "           0       0.21      0.57      0.30        70\n",
      "           1       0.35      0.45      0.39       126\n",
      "           2       0.93      0.74      0.83       804\n",
      "\n",
      "    accuracy                           0.69      1000\n",
      "   macro avg       0.49      0.59      0.51      1000\n",
      "weighted avg       0.80      0.69      0.73      1000\n",
      "\n"
     ]
    }
   ],
   "source": [
    "print(metrics.classification_report(stance_dev,predicted))"
   ]
  },
  {
   "attachments": {},
   "cell_type": "markdown",
   "metadata": {},
   "source": [
    "#### Naive Bayes For catgeory"
   ]
  },
  {
   "cell_type": "code",
   "execution_count": 756,
   "metadata": {},
   "outputs": [],
   "source": [
    "# Create model(naive bayes) and training. \n",
    "from sklearn.naive_bayes import MultinomialNB\n",
    "clf = MultinomialNB().fit(feature_train, category_train)"
   ]
  },
  {
   "cell_type": "code",
   "execution_count": 757,
   "metadata": {},
   "outputs": [
    {
     "name": "stdout",
     "output_type": "stream",
     "text": [
      "Accuracy: 56.699999999999996\n",
      "train accuarcy 0.6483333333333333\n"
     ]
    }
   ],
   "source": [
    "predicted = clf.predict(feature_dev)\n",
    "# Model Accuracy, how often is the classifier correct?\n",
    "print(\"Accuracy:\",metrics.accuracy_score(category_dev, predicted)*100)\n",
    "train_score = accuracy_score(category_train,clf.predict(feature_train))\n",
    "print(\"train accuarcy\", train_score)"
   ]
  },
  {
   "cell_type": "code",
   "execution_count": 758,
   "metadata": {},
   "outputs": [
    {
     "name": "stdout",
     "output_type": "stream",
     "text": [
      "              precision    recall  f1-score   support\n",
      "\n",
      "           0       0.56      0.98      0.72       545\n",
      "           1       0.93      0.09      0.16       145\n",
      "           2       0.00      0.00      0.00        82\n",
      "           3       0.00      0.00      0.00        20\n",
      "           4       0.00      0.00      0.00        15\n",
      "           5       0.00      0.00      0.00        10\n",
      "           6       0.00      0.00      0.00         2\n",
      "           7       0.46      0.13      0.21       128\n",
      "           8       0.80      0.11      0.20        36\n",
      "           9       0.00      0.00      0.00        17\n",
      "\n",
      "    accuracy                           0.57      1000\n",
      "   macro avg       0.28      0.13      0.13      1000\n",
      "weighted avg       0.53      0.57      0.45      1000\n",
      "\n"
     ]
    },
    {
     "name": "stderr",
     "output_type": "stream",
     "text": [
      "c:\\Users\\rorod\\miniforge3\\envs\\new_python_nlp_2\\lib\\site-packages\\sklearn\\metrics\\_classification.py:1318: UndefinedMetricWarning: Precision and F-score are ill-defined and being set to 0.0 in labels with no predicted samples. Use `zero_division` parameter to control this behavior.\n",
      "  _warn_prf(average, modifier, msg_start, len(result))\n",
      "c:\\Users\\rorod\\miniforge3\\envs\\new_python_nlp_2\\lib\\site-packages\\sklearn\\metrics\\_classification.py:1318: UndefinedMetricWarning: Precision and F-score are ill-defined and being set to 0.0 in labels with no predicted samples. Use `zero_division` parameter to control this behavior.\n",
      "  _warn_prf(average, modifier, msg_start, len(result))\n",
      "c:\\Users\\rorod\\miniforge3\\envs\\new_python_nlp_2\\lib\\site-packages\\sklearn\\metrics\\_classification.py:1318: UndefinedMetricWarning: Precision and F-score are ill-defined and being set to 0.0 in labels with no predicted samples. Use `zero_division` parameter to control this behavior.\n",
      "  _warn_prf(average, modifier, msg_start, len(result))\n"
     ]
    }
   ],
   "source": [
    "print(metrics.classification_report(category_dev,predicted))"
   ]
  },
  {
   "attachments": {},
   "cell_type": "markdown",
   "metadata": {},
   "source": [
    "### Cross Validation"
   ]
  },
  {
   "cell_type": "code",
   "execution_count": null,
   "metadata": {},
   "outputs": [],
   "source": [
    "#I stopped it because it uses all data set\n",
    "# kf =KFold(n_splits=10, shuffle=True, random_state=42)\n",
    "\n",
    "# cnt = 1\n",
    "# # split()  method generate indices to split data into training and test set.\n",
    "# for train_index, test_index in kf.split(features, stance):\n",
    "#     print(f'Fold:{cnt}, Train set: {len(train_index)}, Test set:{len(test_index)}')\n",
    "#     cnt += 1"
   ]
  },
  {
   "cell_type": "code",
   "execution_count": null,
   "metadata": {},
   "outputs": [],
   "source": [
    "# n_estimators = [50, 100, 150, 200, 250, 300, 350]\n",
    "\n",
    "# for val in n_estimators:\n",
    "#     score = cross_val_score(RandomForestClassifier(n_estimators= val, random_state= 42) ,features, stance, cv= kf, scoring=\"accuracy\")\n",
    "#     print(f'Average score({val}): {\"{:.3f}\".format(score.mean())}')"
   ]
  },
  {
   "cell_type": "code",
   "execution_count": null,
   "metadata": {},
   "outputs": [],
   "source": [
    "# n_estimators = [50, 100, 150, 200, 250, 300, 350]\n",
    "\n",
    "# for val in n_estimators:\n",
    "#     score = cross_val_score(RandomForestClassifier(n_estimators= val, random_state= 42) ,features, category, cv= kf, scoring=\"accuracy\")\n",
    "#     print(f'Average score({val}): {\"{:.3f}\".format(score.mean())}')\n"
   ]
  },
  {
   "attachments": {},
   "cell_type": "markdown",
   "metadata": {},
   "source": [
    "### LogisticRegression"
   ]
  },
  {
   "cell_type": "code",
   "execution_count": 759,
   "metadata": {},
   "outputs": [],
   "source": [
    "from sklearn.linear_model import LogisticRegression"
   ]
  },
  {
   "cell_type": "code",
   "execution_count": 760,
   "metadata": {},
   "outputs": [
    {
     "name": "stdout",
     "output_type": "stream",
     "text": [
      "Accuracy: 67.4\n",
      "              precision    recall  f1-score   support\n",
      "\n",
      "           0       0.26      0.47      0.33        70\n",
      "           1       0.25      0.50      0.34       126\n",
      "           2       0.93      0.72      0.81       804\n",
      "\n",
      "    accuracy                           0.67      1000\n",
      "   macro avg       0.48      0.56      0.49      1000\n",
      "weighted avg       0.79      0.67      0.72      1000\n",
      "\n",
      "Accuracy: 63.800000000000004\n",
      "              precision    recall  f1-score   support\n",
      "\n",
      "           0       0.68      0.84      0.75       545\n",
      "           1       0.87      0.72      0.79       145\n",
      "           2       0.11      0.02      0.04        82\n",
      "           3       0.20      0.05      0.08        20\n",
      "           4       0.00      0.00      0.00        15\n",
      "           5       0.00      0.00      0.00        10\n",
      "           6       1.00      0.50      0.67         2\n",
      "           7       0.46      0.48      0.47       128\n",
      "           8       0.24      0.31      0.27        36\n",
      "           9       0.00      0.00      0.00        17\n",
      "\n",
      "    accuracy                           0.64      1000\n",
      "   macro avg       0.36      0.29      0.31      1000\n",
      "weighted avg       0.58      0.64      0.60      1000\n",
      "\n"
     ]
    },
    {
     "name": "stderr",
     "output_type": "stream",
     "text": [
      "c:\\Users\\rorod\\miniforge3\\envs\\new_python_nlp_2\\lib\\site-packages\\sklearn\\metrics\\_classification.py:1318: UndefinedMetricWarning: Precision and F-score are ill-defined and being set to 0.0 in labels with no predicted samples. Use `zero_division` parameter to control this behavior.\n",
      "  _warn_prf(average, modifier, msg_start, len(result))\n",
      "c:\\Users\\rorod\\miniforge3\\envs\\new_python_nlp_2\\lib\\site-packages\\sklearn\\metrics\\_classification.py:1318: UndefinedMetricWarning: Precision and F-score are ill-defined and being set to 0.0 in labels with no predicted samples. Use `zero_division` parameter to control this behavior.\n",
      "  _warn_prf(average, modifier, msg_start, len(result))\n",
      "c:\\Users\\rorod\\miniforge3\\envs\\new_python_nlp_2\\lib\\site-packages\\sklearn\\metrics\\_classification.py:1318: UndefinedMetricWarning: Precision and F-score are ill-defined and being set to 0.0 in labels with no predicted samples. Use `zero_division` parameter to control this behavior.\n",
      "  _warn_prf(average, modifier, msg_start, len(result))\n"
     ]
    }
   ],
   "source": [
    "#Fitting The Stance Detection Model using Logistic Regression (W2v)\n",
    "lr_w2v=LogisticRegression(solver = 'liblinear', C=10, penalty = 'l2')\n",
    "lr_w2v.fit(feature_train, stance_train)  #model\n",
    "\n",
    "#Predict y value for test dataset\n",
    "stance_predict = lr_w2v.predict(feature_dev)\n",
    "stance_prob = lr_w2v.predict_proba(feature_dev)[:,1]\n",
    "print(\"Accuracy:\",metrics.accuracy_score(stance_dev, stance_predict)*100)\n",
    "print(metrics.classification_report(stance_dev,stance_predict))\n",
    "\n",
    "# Fitting The Classification Model using Logistic Regression (W2v)\n",
    "lr_w2v2=LogisticRegression(solver = 'liblinear', C=10, penalty = 'l2')\n",
    "lr_w2v2.fit(feature_train, category_train)  #model\n",
    "\n",
    "#Predict y value for test dataset\n",
    "categ_predict = lr_w2v2.predict(feature_dev)\n",
    "print(\"Accuracy:\",metrics.accuracy_score(category_dev, categ_predict)*100)\n",
    "print(metrics.classification_report(category_dev,categ_predict))\n",
    "categ_prob = lr_w2v2.predict_proba(feature_dev)[:,1]"
   ]
  }
 ],
 "metadata": {
  "kernelspec": {
   "display_name": "Python 3",
   "language": "python",
   "name": "python3"
  },
  "language_info": {
   "codemirror_mode": {
    "name": "ipython",
    "version": 3
   },
   "file_extension": ".py",
   "mimetype": "text/x-python",
   "name": "python",
   "nbconvert_exporter": "python",
   "pygments_lexer": "ipython3",
   "version": "3.7.12"
  },
  "orig_nbformat": 4,
  "vscode": {
   "interpreter": {
    "hash": "fcf9cbd0c10e7b20be0354504d5dd91617ed7515deed89fb2407bea1e8233e1a"
   }
  }
 },
 "nbformat": 4,
 "nbformat_minor": 2
}
