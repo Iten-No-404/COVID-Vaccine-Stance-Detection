{
 "cells": [
  {
   "cell_type": "code",
   "execution_count": 796,
   "metadata": {},
   "outputs": [
    {
     "name": "stderr",
     "output_type": "stream",
     "text": [
      "c:\\Users\\rorod\\miniforge3\\envs\\new_python_nlp_2\\lib\\site-packages\\sklearn\\utils\\deprecation.py:87: FutureWarning: Function get_feature_names is deprecated; get_feature_names is deprecated in 1.0 and will be removed in 1.2. Please use get_feature_names_out instead.\n",
      "  warnings.warn(msg, category=FutureWarning)\n"
     ]
    },
    {
     "name": "stdout",
     "output_type": "stream",
     "text": [
      "1.6597412693274927e-110\n",
      "4.2552940390803975e-123\n",
      "Cosine similarity between 'لقاح' and 'كورونا' - CBOW :  0.9989086\n",
      "Cosine similarity between 'لقاح' and 'صيفي' - CBOW :  0.77969635\n",
      "Cosine similarity between 'لقاح' and 'كورونا' - Skip Gram :  0.84706306\n",
      "Cosine similarity between 'لقاح' and 'صيفي' - Skip Gram :  0.6795748\n"
     ]
    }
   ],
   "source": [
    "%run feature_extraction.ipynb"
   ]
  },
  {
   "cell_type": "code",
   "execution_count": 797,
   "metadata": {},
   "outputs": [],
   "source": [
    "import pandas as pd\n",
    "import numpy as np\n",
    "\n",
    "from sklearn.ensemble import RandomForestClassifier\n",
    "from sklearn.model_selection import StratifiedKFold\n",
    "import tqdm\n",
    "import numpy as np\n",
    "\n",
    "from sklearn.ensemble import RandomForestClassifier\n",
    "from sklearn import metrics\n",
    "from sklearn.model_selection import cross_val_score\n",
    "from sklearn.decomposition import PCA\n",
    "import torch"
   ]
  },
  {
   "cell_type": "code",
   "execution_count": 798,
   "metadata": {},
   "outputs": [],
   "source": [
    "from numpy import mean\n",
    "from numpy import std\n",
    "from sklearn.datasets import make_classification\n",
    "from sklearn.model_selection import KFold\n",
    "from sklearn.model_selection import GridSearchCV\n",
    "from sklearn.ensemble import RandomForestClassifier\n",
    "from sklearn.metrics import accuracy_score"
   ]
  },
  {
   "cell_type": "code",
   "execution_count": 799,
   "metadata": {},
   "outputs": [],
   "source": [
    "train_1=pd.read_pickle('output/train_3_original.pkl')"
   ]
  },
  {
   "cell_type": "code",
   "execution_count": 800,
   "metadata": {},
   "outputs": [],
   "source": [
    "dev_1=pd.read_pickle('output/dev_1_original.pkl')"
   ]
  },
  {
   "cell_type": "code",
   "execution_count": 801,
   "metadata": {},
   "outputs": [
    {
     "data": {
      "text/html": [
       "<div>\n",
       "<style scoped>\n",
       "    .dataframe tbody tr th:only-of-type {\n",
       "        vertical-align: middle;\n",
       "    }\n",
       "\n",
       "    .dataframe tbody tr th {\n",
       "        vertical-align: top;\n",
       "    }\n",
       "\n",
       "    .dataframe thead th {\n",
       "        text-align: right;\n",
       "    }\n",
       "</style>\n",
       "<table border=\"1\" class=\"dataframe\">\n",
       "  <thead>\n",
       "    <tr style=\"text-align: right;\">\n",
       "      <th></th>\n",
       "      <th>text</th>\n",
       "      <th>category</th>\n",
       "      <th>stance</th>\n",
       "      <th>tokens</th>\n",
       "    </tr>\n",
       "  </thead>\n",
       "  <tbody>\n",
       "    <tr>\n",
       "      <th>3</th>\n",
       "      <td>#تركيا.. وزير الصحة فخر الدين قوجة يتلقى أول ج...</td>\n",
       "      <td>celebrity</td>\n",
       "      <td>2</td>\n",
       "      <td>[وزر, صحة, فخر, دين, قوج, لقى, اول, جرع, لقح, ...</td>\n",
       "    </tr>\n",
       "    <tr>\n",
       "      <th>4</th>\n",
       "      <td>وئام وهاب يشتم الدول الخليجية في كل طلة اعلامي...</td>\n",
       "      <td>personal</td>\n",
       "      <td>1</td>\n",
       "      <td>[وئم, وهب, شتم, دول, خلج, طلة, علم, تسف, علي, ...</td>\n",
       "    </tr>\n",
       "    <tr>\n",
       "      <th>5</th>\n",
       "      <td>لقاح #كورونا في أميركا.. قلق متزايد من \"التوزي...</td>\n",
       "      <td>info_news</td>\n",
       "      <td>1</td>\n",
       "      <td>[لقح, امر, قلق, زايد, وزع, عدل]</td>\n",
       "    </tr>\n",
       "    <tr>\n",
       "      <th>5</th>\n",
       "      <td>لقاح #كورونا في أميركا.. قلق متزايد من \"التوزي...</td>\n",
       "      <td>info_news</td>\n",
       "      <td>1</td>\n",
       "      <td>[لقح, امر, قلق, زايد, وزع, عدل]</td>\n",
       "    </tr>\n",
       "    <tr>\n",
       "      <th>5</th>\n",
       "      <td>لقاح #كورونا في أميركا.. قلق متزايد من \"التوزي...</td>\n",
       "      <td>info_news</td>\n",
       "      <td>1</td>\n",
       "      <td>[لقح, امر, قلق, زايد, وزع, عدل]</td>\n",
       "    </tr>\n",
       "    <tr>\n",
       "      <th>6</th>\n",
       "      <td>لبنان اشترى مليونان لقاح امريكي اذا شلنا يلي ع...</td>\n",
       "      <td>info_news</td>\n",
       "      <td>2</td>\n",
       "      <td>[لبن, شرى, لين, لقح, امر, اذا, شلن, يلي, عمر, ...</td>\n",
       "    </tr>\n",
       "    <tr>\n",
       "      <th>9</th>\n",
       "      <td>دعبول حضرتك منو انت وتطلب من قائد دولة إسلامية...</td>\n",
       "      <td>info_news</td>\n",
       "      <td>2</td>\n",
       "      <td>[دعبول, حضر, منو, انت, طلب, قئد, دول, سلم, لقح...</td>\n",
       "    </tr>\n",
       "    <tr>\n",
       "      <th>10</th>\n",
       "      <td>مات 23 شخص في النرويج بعد تلقي لقاح  #COVID19....</td>\n",
       "      <td>info_news</td>\n",
       "      <td>0</td>\n",
       "      <td>[مات, شخص, روج, تلق, لقح, بوس]</td>\n",
       "    </tr>\n",
       "    <tr>\n",
       "      <th>10</th>\n",
       "      <td>مات 23 شخص في النرويج بعد تلقي لقاح  #COVID19....</td>\n",
       "      <td>info_news</td>\n",
       "      <td>0</td>\n",
       "      <td>[مات, شخص, روج, تلق, لقح, بوس]</td>\n",
       "    </tr>\n",
       "    <tr>\n",
       "      <th>10</th>\n",
       "      <td>مات 23 شخص في النرويج بعد تلقي لقاح  #COVID19....</td>\n",
       "      <td>info_news</td>\n",
       "      <td>0</td>\n",
       "      <td>[مات, شخص, روج, تلق, لقح, بوس]</td>\n",
       "    </tr>\n",
       "  </tbody>\n",
       "</table>\n",
       "</div>"
      ],
      "text/plain": [
       "                                                 text   category  stance  \\\n",
       "3   #تركيا.. وزير الصحة فخر الدين قوجة يتلقى أول ج...  celebrity       2   \n",
       "4   وئام وهاب يشتم الدول الخليجية في كل طلة اعلامي...   personal       1   \n",
       "5   لقاح #كورونا في أميركا.. قلق متزايد من \"التوزي...  info_news       1   \n",
       "5   لقاح #كورونا في أميركا.. قلق متزايد من \"التوزي...  info_news       1   \n",
       "5   لقاح #كورونا في أميركا.. قلق متزايد من \"التوزي...  info_news       1   \n",
       "6   لبنان اشترى مليونان لقاح امريكي اذا شلنا يلي ع...  info_news       2   \n",
       "9   دعبول حضرتك منو انت وتطلب من قائد دولة إسلامية...  info_news       2   \n",
       "10  مات 23 شخص في النرويج بعد تلقي لقاح  #COVID19....  info_news       0   \n",
       "10  مات 23 شخص في النرويج بعد تلقي لقاح  #COVID19....  info_news       0   \n",
       "10  مات 23 شخص في النرويج بعد تلقي لقاح  #COVID19....  info_news       0   \n",
       "\n",
       "                                               tokens  \n",
       "3   [وزر, صحة, فخر, دين, قوج, لقى, اول, جرع, لقح, ...  \n",
       "4   [وئم, وهب, شتم, دول, خلج, طلة, علم, تسف, علي, ...  \n",
       "5                     [لقح, امر, قلق, زايد, وزع, عدل]  \n",
       "5                     [لقح, امر, قلق, زايد, وزع, عدل]  \n",
       "5                     [لقح, امر, قلق, زايد, وزع, عدل]  \n",
       "6   [لبن, شرى, لين, لقح, امر, اذا, شلن, يلي, عمر, ...  \n",
       "9   [دعبول, حضر, منو, انت, طلب, قئد, دول, سلم, لقح...  \n",
       "10                     [مات, شخص, روج, تلق, لقح, بوس]  \n",
       "10                     [مات, شخص, روج, تلق, لقح, بوس]  \n",
       "10                     [مات, شخص, روج, تلق, لقح, بوس]  "
      ]
     },
     "execution_count": 801,
     "metadata": {},
     "output_type": "execute_result"
    }
   ],
   "source": [
    "train_1.head(10)\n"
   ]
  },
  {
   "cell_type": "code",
   "execution_count": 802,
   "metadata": {},
   "outputs": [
    {
     "data": {
      "text/plain": [
       "3       [وزر, صحة, فخر, دين, قوج, لقى, اول, جرع, لقح, ...\n",
       "4       [وئم, وهب, شتم, دول, خلج, طلة, علم, تسف, علي, ...\n",
       "5                         [لقح, امر, قلق, زايد, وزع, عدل]\n",
       "5                         [لقح, امر, قلق, زايد, وزع, عدل]\n",
       "5                         [لقح, امر, قلق, زايد, وزع, عدل]\n",
       "                              ...                        \n",
       "6983                                 [يجب, طعم, قلل, اصب]\n",
       "6984                 [وبء, خطر, كرة, رضي, كورو, امر, خطط]\n",
       "6984                 [وبء, خطر, كرة, رضي, كورو, امر, خطط]\n",
       "6985                                [جرع, ولى, لقح, كورو]\n",
       "6986        [حظر, لقح, غرب, صدد, جزة, جرب, لقح, كوب, يرن]\n",
       "Name: tokens, Length: 3000, dtype: object"
      ]
     },
     "execution_count": 802,
     "metadata": {},
     "output_type": "execute_result"
    }
   ],
   "source": [
    "train_1.loc[:,\"tokens\"]"
   ]
  },
  {
   "cell_type": "code",
   "execution_count": 803,
   "metadata": {},
   "outputs": [
    {
     "data": {
      "text/plain": [
       "3       celebrity\n",
       "4        personal\n",
       "5       info_news\n",
       "5       info_news\n",
       "5       info_news\n",
       "          ...    \n",
       "6983    info_news\n",
       "6984       others\n",
       "6984       others\n",
       "6985    info_news\n",
       "6986    info_news\n",
       "Name: category, Length: 3000, dtype: object"
      ]
     },
     "execution_count": 803,
     "metadata": {},
     "output_type": "execute_result"
    }
   ],
   "source": [
    "train_1.loc[:,\"tokens\"]\n",
    "# lables\n",
    "train_1.loc[:,\"stance\"]\n",
    "train_1.loc[:,\"category\"]"
   ]
  },
  {
   "cell_type": "code",
   "execution_count": 804,
   "metadata": {},
   "outputs": [],
   "source": [
    "def edit_categories(x):\n",
    "    if x == 'info_news':\n",
    "        return 0\n",
    "    elif x == 'celebrity':\n",
    "        return 1\n",
    "    elif x == 'plan':\n",
    "        return 2\n",
    "    elif x == 'requests':\n",
    "        return 3\n",
    "    elif x == 'rumors':\n",
    "        return 4\n",
    "    elif x == 'advice':\n",
    "        return 5\n",
    "    elif x == 'restrictions':\n",
    "        return 6\n",
    "    elif x == 'personal':\n",
    "        return 7\n",
    "    elif x == 'unrelated':\n",
    "        return 8\n",
    "    elif x == 'others':\n",
    "        return 9\n",
    "    else:\n",
    "        return -1"
   ]
  },
  {
   "cell_type": "code",
   "execution_count": 805,
   "metadata": {},
   "outputs": [],
   "source": [
    "def get_max_padding(data_train):\n",
    "    max_len = 0\n",
    "    # print(type(data_train))\n",
    "    for i in range(len(data_train)):      \n",
    "        max_len =max(max_len,len (data_train[i]))\n",
    "    return  max_len"
   ]
  },
  {
   "cell_type": "code",
   "execution_count": 806,
   "metadata": {},
   "outputs": [],
   "source": [
    "# max_len=get_max_padding(train_1.loc[:,\"tokens\"])"
   ]
  },
  {
   "cell_type": "code",
   "execution_count": 807,
   "metadata": {},
   "outputs": [],
   "source": [
    "def process_data(sentences,stance,category,max_len):   \n",
    "    pad_words = [\"باد\"]\n",
    "    for i in range(len(sentences)):\n",
    "        if len(sentences[i] )< max_len:\n",
    "            pad = [\"باد\"]*(max_len- len(sentences[i]))\n",
    "            sentences[i] = sentences[i]+ pad\n",
    "    category =category.apply(edit_categories)\n",
    "    return sentences,category,stance\n",
    "\n"
   ]
  },
  {
   "cell_type": "code",
   "execution_count": 808,
   "metadata": {},
   "outputs": [],
   "source": [
    "sentences_train,stance_train,category_train =train_1.loc[:,\"tokens\"],train_1.loc[:,\"stance\"],train_1.loc[:,\"category\"].apply(edit_categories)"
   ]
  },
  {
   "cell_type": "code",
   "execution_count": 809,
   "metadata": {},
   "outputs": [],
   "source": [
    "sentences_dev,stance_dev,category_dev =dev_1.loc[:,\"tokens\"],dev_1.loc[:,\"stance\"],dev_1.loc[:,\"category\"].apply(edit_categories)"
   ]
  },
  {
   "cell_type": "code",
   "execution_count": 810,
   "metadata": {},
   "outputs": [
    {
     "data": {
      "text/plain": [
       "3       #تركيا.. وزير الصحة فخر الدين قوجة يتلقى أول ج...\n",
       "4       وئام وهاب يشتم الدول الخليجية في كل طلة اعلامي...\n",
       "5       لقاح #كورونا في أميركا.. قلق متزايد من \"التوزي...\n",
       "5       لقاح #كورونا في أميركا.. قلق متزايد من \"التوزي...\n",
       "5       لقاح #كورونا في أميركا.. قلق متزايد من \"التوزي...\n",
       "                              ...                        \n",
       "6983    #الاتحاد_الدولي_لمكافحه_العدوي: يجب تطعيم 70% ...\n",
       "6984    الوباء الاخطر على الكرة الأرضية ليس كورونا <LF...\n",
       "6984    الوباء الاخطر على الكرة الأرضية ليس كورونا <LF...\n",
       "6985    الجرعة الاولى من لقاح كورونا 👌 https://t.co/L2...\n",
       "6986    بعد حظر #خامنئي اللقاحات الغربية.. #طهران بصدد...\n",
       "Name: text, Length: 3000, dtype: object"
      ]
     },
     "execution_count": 810,
     "metadata": {},
     "output_type": "execute_result"
    }
   ],
   "source": [
    "# train_1.loc[:,\"tokenized\"][1]\n",
    "train_1.loc[:,\"text\"]"
   ]
  },
  {
   "cell_type": "code",
   "execution_count": 811,
   "metadata": {},
   "outputs": [
    {
     "name": "stdout",
     "output_type": "stream",
     "text": [
      "3000 3000 3000\n"
     ]
    }
   ],
   "source": [
    "print(len(sentences_train),len(category_train),len(stance_train))"
   ]
  },
  {
   "cell_type": "code",
   "execution_count": 812,
   "metadata": {},
   "outputs": [
    {
     "name": "stdout",
     "output_type": "stream",
     "text": [
      "1000 1000 1000\n"
     ]
    }
   ],
   "source": [
    "print(len(sentences_dev),len(category_dev),len(stance_dev))"
   ]
  },
  {
   "cell_type": "code",
   "execution_count": 813,
   "metadata": {},
   "outputs": [
    {
     "name": "stdout",
     "output_type": "stream",
     "text": [
      "<class 'pandas.core.series.Series'>\n"
     ]
    }
   ],
   "source": [
    "print(type(sentences_train))"
   ]
  },
  {
   "cell_type": "code",
   "execution_count": 814,
   "metadata": {},
   "outputs": [
    {
     "name": "stdout",
     "output_type": "stream",
     "text": [
      "بيل غيتس يتلقى لقاح تصوير الابرة السيرنجة الدواء لابس بولو صيفي عز الشتاء يقول ان احدى مزايا عمر ال عاما انه مؤهل للحصول اللقاح يعنى يحتاج اللقاح عمره اصغر\n"
     ]
    }
   ],
   "source": [
    "print(corpus[0])"
   ]
  },
  {
   "cell_type": "code",
   "execution_count": 815,
   "metadata": {},
   "outputs": [],
   "source": [
    "sentences_train=sentences_train\n",
    "sentences_dev= sentences_dev\n",
    "new_sentences_train=[]\n",
    "new_sentences_dev=[]\n",
    "for sentence in sentences_train:\n",
    "    new_sentences_train.append(' '.join(sentence))\n",
    "for sentence in sentences_dev:\n",
    "    new_sentences_dev.append(' '.join(sentence))\n"
   ]
  },
  {
   "cell_type": "code",
   "execution_count": 816,
   "metadata": {},
   "outputs": [],
   "source": [
    "def preprocessing_tf_ifd(sentences):\n",
    "    new_sentences=[]\n",
    "    for sentence in sentences:\n",
    "        new_sentences.append(' '.join(sentence))\n",
    "    return new_sentences\n"
   ]
  },
  {
   "cell_type": "code",
   "execution_count": 817,
   "metadata": {},
   "outputs": [],
   "source": [
    "new_sentences_train=preprocessing_tf_ifd(sentences_train)"
   ]
  },
  {
   "cell_type": "code",
   "execution_count": 818,
   "metadata": {},
   "outputs": [
    {
     "name": "stderr",
     "output_type": "stream",
     "text": [
      "c:\\Users\\rorod\\miniforge3\\envs\\new_python_nlp_2\\lib\\site-packages\\sklearn\\utils\\deprecation.py:87: FutureWarning: Function get_feature_names is deprecated; get_feature_names is deprecated in 1.0 and will be removed in 1.2. Please use get_feature_names_out instead.\n",
      "  warnings.warn(msg, category=FutureWarning)\n"
     ]
    }
   ],
   "source": [
    "dict_res_train,tfIdf=get_TF_IDF(new_sentences_train)\n",
    "# print(dict_res_train)\n",
    "td_idf_train=assign_tf_idf(sentences_train,dict_res_train)"
   ]
  },
  {
   "cell_type": "code",
   "execution_count": 819,
   "metadata": {},
   "outputs": [],
   "source": [
    "new_sentences_dev=preprocessing_tf_ifd(sentences_dev)\n",
    "dict_res_dev,tfIdf=get_TF_IDF(new_sentences_dev)\n",
    "# print(dict_res_train)\n",
    "td_idf_dev=assign_tf_idf(sentences_dev,dict_res_dev)"
   ]
  },
  {
   "cell_type": "code",
   "execution_count": 820,
   "metadata": {},
   "outputs": [],
   "source": [
    "prob_dev = convert_ngrams_probablities( 2,new_sentences_dev)\n",
    "prob_train = convert_ngrams_probablities( 2,new_sentences_train)"
   ]
  },
  {
   "cell_type": "code",
   "execution_count": 821,
   "metadata": {},
   "outputs": [],
   "source": [
    "def embeddings(max_len,data): #aravert embeddings\n",
    "    data =data.tolist()\n",
    "    new_data=[]\n",
    "    len_embeddings_one_wprd =0\n",
    "    for value in data:\n",
    "        for word in value :\n",
    "            len_embeddings_one_wprd= len(word)\n",
    "            break\n",
    "\n",
    "    # 3 words\n",
    "    # 5 words\n",
    "    # word => vector\n",
    "    # padding vector??\n",
    "    for sentence in data: # sentences \n",
    "        if len(sentence)< max_len:\n",
    "            n_paddings = (max_len- len(sentence))\n",
    "            paddings = [0]*len_embeddings_one_wprd\n",
    "            sentence.append()\n",
    "\n",
    "           \n",
    "          \n",
    "        elif len(sentence)== max_len:\n",
    "            sentences = sentences.tolist()\n",
    "        else:\n",
    "            print(\"error\")\n",
    "        new_data.append(sentences)\n",
    "        \n",
    "    return new_data\n"
   ]
  },
  {
   "cell_type": "code",
   "execution_count": 822,
   "metadata": {},
   "outputs": [],
   "source": [
    "feature_train =[td_idf_train,prob_train]\n",
    "feature_dev = [td_idf_dev, prob_dev]"
   ]
  },
  {
   "cell_type": "code",
   "execution_count": 823,
   "metadata": {},
   "outputs": [
    {
     "name": "stdout",
     "output_type": "stream",
     "text": [
      "2\n"
     ]
    }
   ],
   "source": [
    "print(len(feature_train))"
   ]
  },
  {
   "cell_type": "code",
   "execution_count": 824,
   "metadata": {},
   "outputs": [],
   "source": [
    "feature_train = np.transpose(np.array(feature_train))\n",
    "feature_dev = np.transpose(np.array(feature_dev))\n"
   ]
  },
  {
   "cell_type": "code",
   "execution_count": 825,
   "metadata": {},
   "outputs": [],
   "source": [
    "from sklearn import metrics\n",
    "from sklearn.metrics import confusion_matrix\n",
    "from sklearn.metrics import accuracy_score\n",
    "from  matplotlib import pyplot "
   ]
  },
  {
   "cell_type": "code",
   "execution_count": 826,
   "metadata": {},
   "outputs": [
    {
     "data": {
      "text/plain": [
       "(3000, 2)"
      ]
     },
     "execution_count": 826,
     "metadata": {},
     "output_type": "execute_result"
    }
   ],
   "source": [
    "feature_train.shape"
   ]
  },
  {
   "cell_type": "code",
   "execution_count": 827,
   "metadata": {},
   "outputs": [
    {
     "name": "stdout",
     "output_type": "stream",
     "text": [
      " Model Accuracy is {18.8}\n",
      "              precision    recall  f1-score   support\n",
      "\n",
      "           0       0.08      0.13      0.10        70\n",
      "           1       0.13      0.79      0.22       126\n",
      "           2       0.73      0.10      0.18       804\n",
      "\n",
      "    accuracy                           0.19      1000\n",
      "   macro avg       0.31      0.34      0.16      1000\n",
      "weighted avg       0.61      0.19      0.18      1000\n",
      "\n",
      " Model Accuracy is {18.9}\n",
      "              precision    recall  f1-score   support\n",
      "\n",
      "           0       0.07      0.13      0.09        70\n",
      "           1       0.13      0.78      0.22       126\n",
      "           2       0.73      0.10      0.18       804\n",
      "\n",
      "    accuracy                           0.19      1000\n",
      "   macro avg       0.31      0.34      0.16      1000\n",
      "weighted avg       0.60      0.19      0.18      1000\n",
      "\n",
      " Model Accuracy is {18.9}\n",
      "              precision    recall  f1-score   support\n",
      "\n",
      "           0       0.08      0.13      0.10        70\n",
      "           1       0.13      0.78      0.22       126\n",
      "           2       0.73      0.10      0.18       804\n",
      "\n",
      "    accuracy                           0.19      1000\n",
      "   macro avg       0.31      0.34      0.16      1000\n",
      "weighted avg       0.61      0.19      0.18      1000\n",
      "\n",
      " Model Accuracy is {18.8}\n",
      "              precision    recall  f1-score   support\n",
      "\n",
      "           0       0.07      0.13      0.09        70\n",
      "           1       0.13      0.78      0.22       126\n",
      "           2       0.73      0.10      0.18       804\n",
      "\n",
      "    accuracy                           0.19      1000\n",
      "   macro avg       0.31      0.34      0.16      1000\n",
      "weighted avg       0.61      0.19      0.18      1000\n",
      "\n",
      " Model Accuracy is {18.9}\n",
      "              precision    recall  f1-score   support\n",
      "\n",
      "           0       0.07      0.13      0.09        70\n",
      "           1       0.13      0.78      0.22       126\n",
      "           2       0.75      0.10      0.18       804\n",
      "\n",
      "    accuracy                           0.19      1000\n",
      "   macro avg       0.32      0.34      0.16      1000\n",
      "weighted avg       0.62      0.19      0.18      1000\n",
      "\n",
      " Model Accuracy is {18.9}\n",
      "              precision    recall  f1-score   support\n",
      "\n",
      "           0       0.08      0.13      0.10        70\n",
      "           1       0.13      0.78      0.22       126\n",
      "           2       0.73      0.10      0.18       804\n",
      "\n",
      "    accuracy                           0.19      1000\n",
      "   macro avg       0.31      0.34      0.16      1000\n",
      "weighted avg       0.61      0.19      0.18      1000\n",
      "\n",
      " Model Accuracy is {18.8}\n",
      "              precision    recall  f1-score   support\n",
      "\n",
      "           0       0.08      0.13      0.10        70\n",
      "           1       0.13      0.79      0.22       126\n",
      "           2       0.73      0.10      0.18       804\n",
      "\n",
      "    accuracy                           0.19      1000\n",
      "   macro avg       0.31      0.34      0.16      1000\n",
      "weighted avg       0.61      0.19      0.18      1000\n",
      "\n"
     ]
    }
   ],
   "source": [
    "# Boost 100 weak decision trees\n",
    "\n",
    "n_estimators = [50, 100, 150, 200, 250, 300, 350]\n",
    "train_scores=[]\n",
    "test_scores=[]\n",
    "for val in n_estimators:\n",
    "    model = RandomForestClassifier(n_estimators=val)\n",
    "    model = model.fit(feature_train, stance_train)\n",
    "    predictions = model.predict(feature_dev)\n",
    "    acc = {metrics.accuracy_score(stance_dev, predictions) * 100}\n",
    "    print(f\" Model Accuracy is {acc}\")\n",
    "    print(metrics.classification_report(stance_dev,predictions))\n",
    "    train_score = accuracy_score(stance_train,model.predict(feature_train))\n",
    "    train_scores.append(train_score)\n",
    "    test_score = accuracy_score(stance_dev,model.predict(feature_dev))\n",
    "    test_scores.append(test_score)"
   ]
  },
  {
   "cell_type": "code",
   "execution_count": 828,
   "metadata": {},
   "outputs": [
    {
     "data": {
      "image/png": "[encoded data removed]",
      "text/plain": [
       "<Figure size 640x480 with 1 Axes>"
      ]
     },
     "metadata": {},
     "output_type": "display_data"
    }
   ],
   "source": [
    "# plot of train and test scores vs tree depth\n",
    "pyplot.plot(n_estimators, train_scores, '-o', label='Train')\n",
    "pyplot.plot(n_estimators, test_scores, '-o', label='Test')\n",
    "pyplot.legend()\n",
    "pyplot.show()"
   ]
  },
  {
   "cell_type": "code",
   "execution_count": 829,
   "metadata": {},
   "outputs": [],
   "source": [
    "cm = confusion_matrix(stance_dev, predictions)\n"
   ]
  },
  {
   "cell_type": "code",
   "execution_count": 830,
   "metadata": {},
   "outputs": [
    {
     "name": "stdout",
     "output_type": "stream",
     "text": [
      "[[  9  43  18]\n",
      " [ 16  99  11]\n",
      " [ 94 630  80]]\n"
     ]
    }
   ],
   "source": [
    "print(cm)"
   ]
  },
  {
   "cell_type": "code",
   "execution_count": 831,
   "metadata": {},
   "outputs": [],
   "source": [
    "# Boost 100 weak decision trees\n",
    "model = RandomForestClassifier(n_estimators=100)\n",
    "#GradientBoostingClassifier(n_estimators=100, learning_rate=1.0, max_depth=1)\n",
    "\n",
    "model = model.fit(feature_train, category_train)"
   ]
  },
  {
   "cell_type": "code",
   "execution_count": 832,
   "metadata": {},
   "outputs": [
    {
     "name": "stdout",
     "output_type": "stream",
     "text": [
      "train accuarcy 0.5603333333333333\n",
      " Model Accuracy is {51.300000000000004}\n"
     ]
    }
   ],
   "source": [
    "predictions = model.predict(feature_dev)\n",
    "acc = {metrics.accuracy_score(category_dev, predictions) * 100}\n",
    "train_score = accuracy_score(category_train,model.predict(feature_train))\n",
    "print(\"train accuarcy\", train_score)\n",
    "print(f\" Model Accuracy is {acc}\")"
   ]
  },
  {
   "cell_type": "code",
   "execution_count": 833,
   "metadata": {},
   "outputs": [
    {
     "name": "stdout",
     "output_type": "stream",
     "text": [
      "              precision    recall  f1-score   support\n",
      "\n",
      "           0       0.55      0.94      0.69       545\n",
      "           1       0.00      0.00      0.00       145\n",
      "           2       0.00      0.00      0.00        82\n",
      "           3       0.00      0.00      0.00        20\n",
      "           4       0.00      0.00      0.00        15\n",
      "           5       0.00      0.00      0.00        10\n",
      "           6       0.00      0.00      0.00         2\n",
      "           7       0.06      0.01      0.01       128\n",
      "           8       0.00      0.00      0.00        36\n",
      "           9       0.00      0.00      0.00        17\n",
      "\n",
      "    accuracy                           0.51      1000\n",
      "   macro avg       0.06      0.09      0.07      1000\n",
      "weighted avg       0.31      0.51      0.38      1000\n",
      "\n"
     ]
    },
    {
     "name": "stderr",
     "output_type": "stream",
     "text": [
      "c:\\Users\\rorod\\miniforge3\\envs\\new_python_nlp_2\\lib\\site-packages\\sklearn\\metrics\\_classification.py:1318: UndefinedMetricWarning: Precision and F-score are ill-defined and being set to 0.0 in labels with no predicted samples. Use `zero_division` parameter to control this behavior.\n",
      "  _warn_prf(average, modifier, msg_start, len(result))\n",
      "c:\\Users\\rorod\\miniforge3\\envs\\new_python_nlp_2\\lib\\site-packages\\sklearn\\metrics\\_classification.py:1318: UndefinedMetricWarning: Precision and F-score are ill-defined and being set to 0.0 in labels with no predicted samples. Use `zero_division` parameter to control this behavior.\n",
      "  _warn_prf(average, modifier, msg_start, len(result))\n",
      "c:\\Users\\rorod\\miniforge3\\envs\\new_python_nlp_2\\lib\\site-packages\\sklearn\\metrics\\_classification.py:1318: UndefinedMetricWarning: Precision and F-score are ill-defined and being set to 0.0 in labels with no predicted samples. Use `zero_division` parameter to control this behavior.\n",
      "  _warn_prf(average, modifier, msg_start, len(result))\n"
     ]
    }
   ],
   "source": [
    "print(metrics.classification_report(category_dev,predictions))"
   ]
  },
  {
   "cell_type": "code",
   "execution_count": 834,
   "metadata": {},
   "outputs": [],
   "source": [
    "from sklearn.ensemble import RandomForestClassifier\n",
    "from sklearn.model_selection import StratifiedKFold\n",
    "from sklearn.metrics import roc_curve, auc, confusion_matrix\n"
   ]
  },
  {
   "cell_type": "code",
   "execution_count": 835,
   "metadata": {},
   "outputs": [],
   "source": [
    "# x_data=[]\n",
    "# for i in range(0, len(stance_train)):\n",
    "#     x_data .append([stance_train[i],prob_train[i]])\n"
   ]
  },
  {
   "cell_type": "code",
   "execution_count": 836,
   "metadata": {},
   "outputs": [],
   "source": [
    "# y_data=[]\n",
    "# for i in range(0, len(stance_dev)):\n",
    "#     y_data .append([stance_dev[i],prob_dev[i]])"
   ]
  },
  {
   "cell_type": "code",
   "execution_count": 837,
   "metadata": {},
   "outputs": [
    {
     "name": "stdout",
     "output_type": "stream",
     "text": [
      "train accuarcy 0.32466666666666666\n",
      "13.900000000000002\n"
     ]
    }
   ],
   "source": [
    "import time\n",
    "from sklearn import svm,metrics\n",
    "\n",
    "\n",
    "classifier_linear = svm.SVC(kernel='linear')\n",
    "\n",
    "classifier_linear.fit(feature_train, stance_train)\n",
    "\n",
    "predictions  = classifier_linear.predict(feature_dev)\n",
    "train_score = accuracy_score(stance_train,model.predict(feature_train))\n",
    "print(\"train accuarcy\", train_score)\n",
    "print(metrics.accuracy_score(stance_dev, predictions) * 100)\n",
    "\n"
   ]
  },
  {
   "cell_type": "code",
   "execution_count": 838,
   "metadata": {},
   "outputs": [
    {
     "name": "stdout",
     "output_type": "stream",
     "text": [
      "              precision    recall  f1-score   support\n",
      "\n",
      "           0       0.22      0.03      0.05        70\n",
      "           1       0.13      0.96      0.22       126\n",
      "           2       0.62      0.02      0.04       804\n",
      "\n",
      "    accuracy                           0.14      1000\n",
      "   macro avg       0.32      0.34      0.10      1000\n",
      "weighted avg       0.53      0.14      0.06      1000\n",
      "\n"
     ]
    }
   ],
   "source": [
    "print(metrics.classification_report(stance_dev,predictions))"
   ]
  },
  {
   "cell_type": "code",
   "execution_count": 839,
   "metadata": {},
   "outputs": [
    {
     "name": "stdout",
     "output_type": "stream",
     "text": [
      "train accuarcy 0.5603333333333333\n",
      "54.50000000000001\n"
     ]
    }
   ],
   "source": [
    "\n",
    "classifier_linear = svm.SVC(kernel='linear')\n",
    "\n",
    "classifier_linear.fit(feature_train, category_train)\n",
    "#???????????????????????????????????????????????????? so bad? with this feature\n",
    "predictions  = classifier_linear.predict(feature_dev)\n",
    "train_score = accuracy_score(category_train,model.predict(feature_train))\n",
    "print(\"train accuarcy\", train_score)\n",
    "print(metrics.accuracy_score(category_dev, predictions) * 100)\n"
   ]
  },
  {
   "cell_type": "code",
   "execution_count": 840,
   "metadata": {},
   "outputs": [
    {
     "name": "stdout",
     "output_type": "stream",
     "text": [
      "              precision    recall  f1-score   support\n",
      "\n",
      "           0       0.55      1.00      0.71       545\n",
      "           1       0.00      0.00      0.00       145\n",
      "           2       0.00      0.00      0.00        82\n",
      "           3       0.00      0.00      0.00        20\n",
      "           4       0.00      0.00      0.00        15\n",
      "           5       0.00      0.00      0.00        10\n",
      "           6       0.00      0.00      0.00         2\n",
      "           7       0.00      0.00      0.00       128\n",
      "           8       0.00      0.00      0.00        36\n",
      "           9       0.00      0.00      0.00        17\n",
      "\n",
      "    accuracy                           0.55      1000\n",
      "   macro avg       0.05      0.10      0.07      1000\n",
      "weighted avg       0.30      0.55      0.38      1000\n",
      "\n"
     ]
    },
    {
     "name": "stderr",
     "output_type": "stream",
     "text": [
      "c:\\Users\\rorod\\miniforge3\\envs\\new_python_nlp_2\\lib\\site-packages\\sklearn\\metrics\\_classification.py:1318: UndefinedMetricWarning: Precision and F-score are ill-defined and being set to 0.0 in labels with no predicted samples. Use `zero_division` parameter to control this behavior.\n",
      "  _warn_prf(average, modifier, msg_start, len(result))\n",
      "c:\\Users\\rorod\\miniforge3\\envs\\new_python_nlp_2\\lib\\site-packages\\sklearn\\metrics\\_classification.py:1318: UndefinedMetricWarning: Precision and F-score are ill-defined and being set to 0.0 in labels with no predicted samples. Use `zero_division` parameter to control this behavior.\n",
      "  _warn_prf(average, modifier, msg_start, len(result))\n",
      "c:\\Users\\rorod\\miniforge3\\envs\\new_python_nlp_2\\lib\\site-packages\\sklearn\\metrics\\_classification.py:1318: UndefinedMetricWarning: Precision and F-score are ill-defined and being set to 0.0 in labels with no predicted samples. Use `zero_division` parameter to control this behavior.\n",
      "  _warn_prf(average, modifier, msg_start, len(result))\n"
     ]
    }
   ],
   "source": [
    "print(metrics.classification_report(category_dev,predictions))"
   ]
  },
  {
   "cell_type": "code",
   "execution_count": 841,
   "metadata": {},
   "outputs": [],
   "source": [
    "# Create model(naive bayes) and training. \n",
    "from sklearn.naive_bayes import MultinomialNB\n",
    "clf = MultinomialNB().fit(feature_train, stance_train)"
   ]
  },
  {
   "cell_type": "code",
   "execution_count": 842,
   "metadata": {},
   "outputs": [
    {
     "name": "stdout",
     "output_type": "stream",
     "text": [
      "train accuarcy 0.32466666666666666\n",
      "Accuracy: 79.7\n"
     ]
    }
   ],
   "source": [
    "predicted = clf.predict(feature_dev)\n",
    "# Model Accuracy, how often is the classifier correct?\n",
    "train_score = accuracy_score(stance_train,model.predict(feature_train))\n",
    "print(\"train accuarcy\", train_score)\n",
    "print(\"Accuracy:\",metrics.accuracy_score(stance_dev, predicted)*100)"
   ]
  },
  {
   "cell_type": "code",
   "execution_count": 843,
   "metadata": {},
   "outputs": [],
   "source": [
    "# Create model(naive bayes) and training. \n",
    "from sklearn.naive_bayes import MultinomialNB\n",
    "clf = MultinomialNB().fit(feature_train, category_train)"
   ]
  },
  {
   "cell_type": "code",
   "execution_count": 844,
   "metadata": {},
   "outputs": [
    {
     "name": "stdout",
     "output_type": "stream",
     "text": [
      "Accuracy: 54.50000000000001\n",
      "train accuarcy 0.5603333333333333\n"
     ]
    }
   ],
   "source": [
    "predicted = clf.predict(feature_dev)\n",
    "# Model Accuracy, how often is the classifier correct?\n",
    "print(\"Accuracy:\",metrics.accuracy_score(category_dev, predicted)*100)\n",
    "train_score = accuracy_score(category_train,model.predict(feature_train))\n",
    "print(\"train accuarcy\", train_score)"
   ]
  },
  {
   "cell_type": "code",
   "execution_count": 845,
   "metadata": {},
   "outputs": [],
   "source": [
    "features=np.concatenate((feature_train,feature_dev))\n",
    "stance =np.concatenate((stance_train,stance_dev))\n",
    "category= np.concatenate((category_train,category_dev))"
   ]
  },
  {
   "cell_type": "code",
   "execution_count": 846,
   "metadata": {},
   "outputs": [
    {
     "data": {
      "text/plain": [
       "(4000, 2)"
      ]
     },
     "execution_count": 846,
     "metadata": {},
     "output_type": "execute_result"
    }
   ],
   "source": [
    "features.shape"
   ]
  },
  {
   "cell_type": "code",
   "execution_count": 847,
   "metadata": {},
   "outputs": [
    {
     "data": {
      "text/plain": [
       "(4000,)"
      ]
     },
     "execution_count": 847,
     "metadata": {},
     "output_type": "execute_result"
    }
   ],
   "source": [
    "stance.shape"
   ]
  },
  {
   "cell_type": "code",
   "execution_count": 848,
   "metadata": {},
   "outputs": [
    {
     "name": "stdout",
     "output_type": "stream",
     "text": [
      "Fold:1, Train set: 3600, Test set:400\n",
      "Fold:2, Train set: 3600, Test set:400\n",
      "Fold:3, Train set: 3600, Test set:400\n",
      "Fold:4, Train set: 3600, Test set:400\n",
      "Fold:5, Train set: 3600, Test set:400\n",
      "Fold:6, Train set: 3600, Test set:400\n",
      "Fold:7, Train set: 3600, Test set:400\n",
      "Fold:8, Train set: 3600, Test set:400\n",
      "Fold:9, Train set: 3600, Test set:400\n",
      "Fold:10, Train set: 3600, Test set:400\n"
     ]
    }
   ],
   "source": [
    "kf =KFold(n_splits=10, shuffle=True, random_state=42)\n",
    "\n",
    "cnt = 1\n",
    "# split()  method generate indices to split data into training and test set.\n",
    "for train_index, test_index in kf.split(features, stance):\n",
    "    print(f'Fold:{cnt}, Train set: {len(train_index)}, Test set:{len(test_index)}')\n",
    "    cnt += 1"
   ]
  },
  {
   "cell_type": "code",
   "execution_count": 849,
   "metadata": {},
   "outputs": [],
   "source": [
    "model = RandomForestClassifier(n_estimators=300)"
   ]
  },
  {
   "cell_type": "code",
   "execution_count": 850,
   "metadata": {},
   "outputs": [
    {
     "name": "stdout",
     "output_type": "stream",
     "text": [
      "Average score(50): 0.517\n",
      "Average score(100): 0.518\n",
      "Average score(150): 0.519\n",
      "Average score(200): 0.517\n",
      "Average score(250): 0.516\n",
      "Average score(300): 0.518\n",
      "Average score(350): 0.517\n"
     ]
    }
   ],
   "source": [
    "n_estimators = [50, 100, 150, 200, 250, 300, 350]\n",
    "\n",
    "for val in n_estimators:\n",
    "    score = cross_val_score(RandomForestClassifier(n_estimators= val, random_state= 42) ,features, stance, cv= kf, scoring=\"accuracy\")\n",
    "    print(f'Average score({val}): {\"{:.3f}\".format(score.mean())}')"
   ]
  },
  {
   "cell_type": "code",
   "execution_count": 851,
   "metadata": {},
   "outputs": [
    {
     "name": "stdout",
     "output_type": "stream",
     "text": [
      "Average score(50): 0.521\n",
      "Average score(100): 0.523\n",
      "Average score(150): 0.520\n",
      "Average score(200): 0.521\n",
      "Average score(250): 0.521\n",
      "Average score(300): 0.521\n",
      "Average score(350): 0.521\n"
     ]
    }
   ],
   "source": [
    "n_estimators = [50, 100, 150, 200, 250, 300, 350]\n",
    "\n",
    "for val in n_estimators:\n",
    "    score = cross_val_score(RandomForestClassifier(n_estimators= val, random_state= 42) ,features, category, cv= kf, scoring=\"accuracy\")\n",
    "    print(f'Average score({val}): {\"{:.3f}\".format(score.mean())}')\n"
   ]
  },
  {
   "cell_type": "code",
   "execution_count": 852,
   "metadata": {},
   "outputs": [
    {
     "name": "stdout",
     "output_type": "stream",
     "text": [
      "Average score: 0.521\n"
     ]
    }
   ],
   "source": [
    "classifier_linear = svm.SVC(kernel='linear')\n",
    "cross_val_score(classifier_linear,features, category, cv= kf,scoring=\"accuracy\")\n",
    "print(f'Average score: {\"{:.3f}\".format(score.mean())}')"
   ]
  }
 ],
 "metadata": {
  "kernelspec": {
   "display_name": "Python 3",
   "language": "python",
   "name": "python3"
  },
  "language_info": {
   "codemirror_mode": {
    "name": "ipython",
    "version": 3
   },
   "file_extension": ".py",
   "mimetype": "text/x-python",
   "name": "python",
   "nbconvert_exporter": "python",
   "pygments_lexer": "ipython3",
   "version": "3.7.12"
  },
  "orig_nbformat": 4,
  "vscode": {
   "interpreter": {
    "hash": "fcf9cbd0c10e7b20be0354504d5dd91617ed7515deed89fb2407bea1e8233e1a"
   }
  }
 },
 "nbformat": 4,
 "nbformat_minor": 2
}
