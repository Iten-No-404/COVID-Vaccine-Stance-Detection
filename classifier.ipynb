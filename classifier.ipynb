{
 "cells": [
  {
   "cell_type": "code",
   "execution_count": 655,
   "metadata": {},
   "outputs": [
    {
     "name": "stdout",
     "output_type": "stream",
     "text": [
      "1.6597412693274927e-110\n",
      "4.2552940390803975e-123\n"
     ]
    }
   ],
   "source": [
    "%run feature_extraction.ipynb"
   ]
  },
  {
   "cell_type": "code",
   "execution_count": 656,
   "metadata": {},
   "outputs": [],
   "source": [
    "# imports\n",
    "import pandas as pd\n",
    "import numpy as np\n",
    "\n",
    "from sklearn.ensemble import RandomForestClassifier\n",
    "from sklearn.model_selection import StratifiedKFold\n",
    "import tqdm\n",
    "import numpy as np\n",
    "\n",
    "from sklearn.ensemble import RandomForestClassifier\n",
    "from sklearn import metrics\n",
    "from sklearn.model_selection import cross_val_score\n",
    "from sklearn.decomposition import PCA\n",
    "import torch"
   ]
  },
  {
   "cell_type": "code",
   "execution_count": 657,
   "metadata": {},
   "outputs": [],
   "source": [
    "#imports\n",
    "from numpy import mean\n",
    "from numpy import std\n",
    "from sklearn.datasets import make_classification\n",
    "from sklearn.model_selection import KFold\n",
    "from sklearn.model_selection import GridSearchCV\n",
    "from sklearn.ensemble import RandomForestClassifier\n",
    "from sklearn.metrics import accuracy_score"
   ]
  },
  {
   "cell_type": "code",
   "execution_count": 658,
   "metadata": {},
   "outputs": [],
   "source": [
    "# reading train data\n",
    "train_1=pd.read_pickle('output/train_3_original.pkl')"
   ]
  },
  {
   "cell_type": "code",
   "execution_count": 659,
   "metadata": {},
   "outputs": [],
   "source": [
    "# reading dev data\n",
    "dev_1=pd.read_pickle('output/dev_1_original.pkl')"
   ]
  },
  {
   "cell_type": "code",
   "execution_count": 660,
   "metadata": {},
   "outputs": [
    {
     "data": {
      "text/html": [
       "<div>\n",
       "<style scoped>\n",
       "    .dataframe tbody tr th:only-of-type {\n",
       "        vertical-align: middle;\n",
       "    }\n",
       "\n",
       "    .dataframe tbody tr th {\n",
       "        vertical-align: top;\n",
       "    }\n",
       "\n",
       "    .dataframe thead th {\n",
       "        text-align: right;\n",
       "    }\n",
       "</style>\n",
       "<table border=\"1\" class=\"dataframe\">\n",
       "  <thead>\n",
       "    <tr style=\"text-align: right;\">\n",
       "      <th></th>\n",
       "      <th>text</th>\n",
       "      <th>category</th>\n",
       "      <th>stance</th>\n",
       "      <th>tokens</th>\n",
       "    </tr>\n",
       "  </thead>\n",
       "  <tbody>\n",
       "    <tr>\n",
       "      <th>3</th>\n",
       "      <td>#تركيا.. وزير الصحة فخر الدين قوجة يتلقى أول ج...</td>\n",
       "      <td>celebrity</td>\n",
       "      <td>2</td>\n",
       "      <td>[وزر, صحة, فخر, دين, قوج, لقى, اول, جرع, لقح, ...</td>\n",
       "    </tr>\n",
       "    <tr>\n",
       "      <th>4</th>\n",
       "      <td>وئام وهاب يشتم الدول الخليجية في كل طلة اعلامي...</td>\n",
       "      <td>personal</td>\n",
       "      <td>1</td>\n",
       "      <td>[وئم, وهب, شتم, دول, خلج, طلة, علم, تسف, علي, ...</td>\n",
       "    </tr>\n",
       "    <tr>\n",
       "      <th>5</th>\n",
       "      <td>لقاح #كورونا في أميركا.. قلق متزايد من \"التوزي...</td>\n",
       "      <td>info_news</td>\n",
       "      <td>1</td>\n",
       "      <td>[لقح, امر, قلق, زايد, وزع, عدل]</td>\n",
       "    </tr>\n",
       "    <tr>\n",
       "      <th>5</th>\n",
       "      <td>لقاح #كورونا في أميركا.. قلق متزايد من \"التوزي...</td>\n",
       "      <td>info_news</td>\n",
       "      <td>1</td>\n",
       "      <td>[لقح, امر, قلق, زايد, وزع, عدل]</td>\n",
       "    </tr>\n",
       "    <tr>\n",
       "      <th>5</th>\n",
       "      <td>لقاح #كورونا في أميركا.. قلق متزايد من \"التوزي...</td>\n",
       "      <td>info_news</td>\n",
       "      <td>1</td>\n",
       "      <td>[لقح, امر, قلق, زايد, وزع, عدل]</td>\n",
       "    </tr>\n",
       "    <tr>\n",
       "      <th>6</th>\n",
       "      <td>لبنان اشترى مليونان لقاح امريكي اذا شلنا يلي ع...</td>\n",
       "      <td>info_news</td>\n",
       "      <td>2</td>\n",
       "      <td>[لبن, شرى, لين, لقح, امر, اذا, شلن, يلي, عمر, ...</td>\n",
       "    </tr>\n",
       "    <tr>\n",
       "      <th>9</th>\n",
       "      <td>دعبول حضرتك منو انت وتطلب من قائد دولة إسلامية...</td>\n",
       "      <td>info_news</td>\n",
       "      <td>2</td>\n",
       "      <td>[دعبول, حضر, منو, انت, طلب, قئد, دول, سلم, لقح...</td>\n",
       "    </tr>\n",
       "    <tr>\n",
       "      <th>10</th>\n",
       "      <td>مات 23 شخص في النرويج بعد تلقي لقاح  #COVID19....</td>\n",
       "      <td>info_news</td>\n",
       "      <td>0</td>\n",
       "      <td>[مات, شخص, روج, تلق, لقح, بوس]</td>\n",
       "    </tr>\n",
       "    <tr>\n",
       "      <th>10</th>\n",
       "      <td>مات 23 شخص في النرويج بعد تلقي لقاح  #COVID19....</td>\n",
       "      <td>info_news</td>\n",
       "      <td>0</td>\n",
       "      <td>[مات, شخص, روج, تلق, لقح, بوس]</td>\n",
       "    </tr>\n",
       "    <tr>\n",
       "      <th>10</th>\n",
       "      <td>مات 23 شخص في النرويج بعد تلقي لقاح  #COVID19....</td>\n",
       "      <td>info_news</td>\n",
       "      <td>0</td>\n",
       "      <td>[مات, شخص, روج, تلق, لقح, بوس]</td>\n",
       "    </tr>\n",
       "  </tbody>\n",
       "</table>\n",
       "</div>"
      ],
      "text/plain": [
       "                                                 text   category  stance  \\\n",
       "3   #تركيا.. وزير الصحة فخر الدين قوجة يتلقى أول ج...  celebrity       2   \n",
       "4   وئام وهاب يشتم الدول الخليجية في كل طلة اعلامي...   personal       1   \n",
       "5   لقاح #كورونا في أميركا.. قلق متزايد من \"التوزي...  info_news       1   \n",
       "5   لقاح #كورونا في أميركا.. قلق متزايد من \"التوزي...  info_news       1   \n",
       "5   لقاح #كورونا في أميركا.. قلق متزايد من \"التوزي...  info_news       1   \n",
       "6   لبنان اشترى مليونان لقاح امريكي اذا شلنا يلي ع...  info_news       2   \n",
       "9   دعبول حضرتك منو انت وتطلب من قائد دولة إسلامية...  info_news       2   \n",
       "10  مات 23 شخص في النرويج بعد تلقي لقاح  #COVID19....  info_news       0   \n",
       "10  مات 23 شخص في النرويج بعد تلقي لقاح  #COVID19....  info_news       0   \n",
       "10  مات 23 شخص في النرويج بعد تلقي لقاح  #COVID19....  info_news       0   \n",
       "\n",
       "                                               tokens  \n",
       "3   [وزر, صحة, فخر, دين, قوج, لقى, اول, جرع, لقح, ...  \n",
       "4   [وئم, وهب, شتم, دول, خلج, طلة, علم, تسف, علي, ...  \n",
       "5                     [لقح, امر, قلق, زايد, وزع, عدل]  \n",
       "5                     [لقح, امر, قلق, زايد, وزع, عدل]  \n",
       "5                     [لقح, امر, قلق, زايد, وزع, عدل]  \n",
       "6   [لبن, شرى, لين, لقح, امر, اذا, شلن, يلي, عمر, ...  \n",
       "9   [دعبول, حضر, منو, انت, طلب, قئد, دول, سلم, لقح...  \n",
       "10                     [مات, شخص, روج, تلق, لقح, بوس]  \n",
       "10                     [مات, شخص, روج, تلق, لقح, بوس]  \n",
       "10                     [مات, شخص, روج, تلق, لقح, بوس]  "
      ]
     },
     "execution_count": 660,
     "metadata": {},
     "output_type": "execute_result"
    }
   ],
   "source": [
    "#check reading is fine\n",
    "train_1.head(10)\n"
   ]
  },
  {
   "cell_type": "code",
   "execution_count": 661,
   "metadata": {},
   "outputs": [],
   "source": [
    "# change  category to be int\n",
    "def edit_categories(x):\n",
    "    if x == 'info_news':\n",
    "        return 0\n",
    "    elif x == 'celebrity':\n",
    "        return 1\n",
    "    elif x == 'plan':\n",
    "        return 2\n",
    "    elif x == 'requests':\n",
    "        return 3\n",
    "    elif x == 'rumors':\n",
    "        return 4\n",
    "    elif x == 'advice':\n",
    "        return 5\n",
    "    elif x == 'restrictions':\n",
    "        return 6\n",
    "    elif x == 'personal':\n",
    "        return 7\n",
    "    elif x == 'unrelated':\n",
    "        return 8\n",
    "    elif x == 'others':\n",
    "        return 9\n",
    "    else:\n",
    "        return -1"
   ]
  },
  {
   "cell_type": "code",
   "execution_count": 662,
   "metadata": {},
   "outputs": [],
   "source": [
    "# passing values for train\n",
    "sentences_train,stance_train,category_train =train_1.loc[:,\"tokens\"],train_1.loc[:,\"stance\"],train_1.loc[:,\"category\"].apply(edit_categories)"
   ]
  },
  {
   "cell_type": "code",
   "execution_count": 663,
   "metadata": {},
   "outputs": [],
   "source": [
    "#passing values for test\n",
    "sentences_dev,stance_dev,category_dev =dev_1.loc[:,\"tokens\"],dev_1.loc[:,\"stance\"],dev_1.loc[:,\"category\"].apply(edit_categories)"
   ]
  },
  {
   "cell_type": "code",
   "execution_count": 664,
   "metadata": {},
   "outputs": [
    {
     "name": "stdout",
     "output_type": "stream",
     "text": [
      "3000 3000 3000\n"
     ]
    }
   ],
   "source": [
    "#check passing is fine\n",
    "print(len(sentences_train),len(category_train),len(stance_train))"
   ]
  },
  {
   "cell_type": "code",
   "execution_count": 665,
   "metadata": {},
   "outputs": [
    {
     "name": "stdout",
     "output_type": "stream",
     "text": [
      "1000 1000 1000\n"
     ]
    }
   ],
   "source": [
    "#check passing is fine\n",
    "print(len(sentences_dev),len(category_dev),len(stance_dev))"
   ]
  },
  {
   "cell_type": "code",
   "execution_count": 666,
   "metadata": {},
   "outputs": [],
   "source": [
    "new_sentences_train=[]\n",
    "new_sentences_dev=[]\n",
    "# merge tokens to be sentences to can be used in some features\n",
    "for sentence in sentences_train:\n",
    "    new_sentences_train.append(' '.join(sentence))\n",
    "for sentence in sentences_dev:\n",
    "    new_sentences_dev.append(' '.join(sentence))"
   ]
  },
  {
   "cell_type": "code",
   "execution_count": 667,
   "metadata": {},
   "outputs": [],
   "source": [
    "# for tf-idf , you should send sentences\n",
    "def preprocessing_tf_ifd(sentences):\n",
    "    new_sentences=[]\n",
    "    for sentence in sentences:\n",
    "        new_sentences.append(' '.join(sentence))\n",
    "    return new_sentences\n"
   ]
  },
  {
   "cell_type": "code",
   "execution_count": 668,
   "metadata": {},
   "outputs": [],
   "source": [
    "#get  new_sentences_train\n",
    "new_sentences_train=preprocessing_tf_ifd(sentences_train)"
   ]
  },
  {
   "cell_type": "code",
   "execution_count": 669,
   "metadata": {},
   "outputs": [
    {
     "name": "stderr",
     "output_type": "stream",
     "text": [
      "c:\\Users\\rorod\\miniforge3\\envs\\new_python_nlp_2\\lib\\site-packages\\sklearn\\utils\\deprecation.py:87: FutureWarning: Function get_feature_names is deprecated; get_feature_names is deprecated in 1.0 and will be removed in 1.2. Please use get_feature_names_out instead.\n",
      "  warnings.warn(msg, category=FutureWarning)\n"
     ]
    }
   ],
   "source": [
    "#get tf -idf for training dta \n",
    "\n",
    "dict_res_train,tfIdf,tf_idf_train,tfIdfVectorizer=get_TF_IDF(new_sentences_train)"
   ]
  },
  {
   "cell_type": "code",
   "execution_count": 670,
   "metadata": {},
   "outputs": [
    {
     "name": "stdout",
     "output_type": "stream",
     "text": [
      "4485\n"
     ]
    }
   ],
   "source": [
    "print(len(tf_idf_train[0]))"
   ]
  },
  {
   "cell_type": "code",
   "execution_count": 671,
   "metadata": {},
   "outputs": [],
   "source": [
    "# get unique words in training which is used in tf -df\n",
    "unique_words_train= tfIdfVectorizer.get_feature_names()"
   ]
  },
  {
   "cell_type": "code",
   "execution_count": 672,
   "metadata": {},
   "outputs": [
    {
     "name": "stdout",
     "output_type": "stream",
     "text": [
      "4485\n"
     ]
    }
   ],
   "source": [
    "print(len(unique_words_train))"
   ]
  },
  {
   "cell_type": "code",
   "execution_count": 673,
   "metadata": {},
   "outputs": [],
   "source": [
    "# for test or dev data , assume some words are new , so change them with word in train\n",
    "#choosing word is important , currently i random it with word has good probabitiy \n",
    "def change_test_set(sentences_dev, unique_words_train, changed_word ='قوة'):\n",
    "    new_sentences=[]\n",
    "    for sentence in sentences_dev:\n",
    "        new_sentence=[]\n",
    "        for word in sentence:\n",
    "            if ( word not in unique_words_train):\n",
    "                word = changed_word\n",
    "            new_sentence.append(word)\n",
    "        new_sentences.append(new_sentence)\n",
    "    return new_sentences"
   ]
  },
  {
   "cell_type": "code",
   "execution_count": 674,
   "metadata": {},
   "outputs": [],
   "source": [
    "#change sentences of dev for tf -idf \n",
    "# don't use them for n gram , in ngram i am doing smoothing\n",
    "sentences_dev_removed=change_test_set(sentences_dev,unique_words_train)"
   ]
  },
  {
   "cell_type": "code",
   "execution_count": 675,
   "metadata": {},
   "outputs": [],
   "source": [
    "\n",
    "new_sentences_dev_removed=[]\n",
    "#using new sentences of dev after removing new words by existing word\n",
    "# then convert tokens to sentences\n",
    "for sentence in sentences_dev_removed:\n",
    "    new_sentences_dev_removed.append(' '.join(sentence))\n",
    "tf_idf_dev=[]\n",
    "# using the same transformer in testing data\n",
    "tfIdf=tfIdfVectorizer.fit_transform(new_sentences_dev_removed)\n",
    "# here i get tf -idf for test\n",
    "for i in range(0,len(new_sentences_dev_removed)):\n",
    "        df = pd.DataFrame(tfIdf[0].T.todense(), index=tfIdfVectorizer.get_feature_names(), columns=[\"TF-IDF\"])\n",
    "        dict_res= preprocessing_tf_idf(i,tfIdfVectorizer,tfIdf)\n",
    "        tf_idf_currrent =[]\n",
    "        #here making sure the tf -idf for test with the same size of train\n",
    "        for word in unique_words_train:\n",
    "            if word in dict_res:\n",
    "                tf_idf_currrent.append(dict_res[word])\n",
    "            else:\n",
    "                tf_idf_currrent.append(0.0)\n",
    "        tf_idf_dev.append(tf_idf_currrent)\n"
   ]
  },
  {
   "cell_type": "code",
   "execution_count": 676,
   "metadata": {},
   "outputs": [
    {
     "name": "stdout",
     "output_type": "stream",
     "text": [
      "4485\n"
     ]
    }
   ],
   "source": [
    "print(len(tf_idf_dev[0]))"
   ]
  },
  {
   "cell_type": "code",
   "execution_count": 677,
   "metadata": {},
   "outputs": [],
   "source": [
    "# converting all to lists\n",
    "for i  in range(0,len(tf_idf_train)):\n",
    "    tf_idf_train[i]= list(tf_idf_train[i])\n",
    "for i in range(0,len(tf_idf_dev)):\n",
    "    tf_idf_dev[i]= list(tf_idf_dev[i])"
   ]
  },
  {
   "cell_type": "code",
   "execution_count": 678,
   "metadata": {},
   "outputs": [
    {
     "name": "stdout",
     "output_type": "stream",
     "text": [
      "4485 4485\n"
     ]
    }
   ],
   "source": [
    "#check they are the same\n",
    "print(len(tf_idf_dev[0]), len(tf_idf_train[0]))"
   ]
  },
  {
   "cell_type": "code",
   "execution_count": 679,
   "metadata": {},
   "outputs": [],
   "source": [
    "#get n gram for data\n",
    "prob_dev = convert_ngrams_probablities( 2,new_sentences_dev)\n",
    "prob_train = convert_ngrams_probablities( 2,new_sentences_train)"
   ]
  },
  {
   "cell_type": "code",
   "execution_count": 681,
   "metadata": {},
   "outputs": [
    {
     "name": "stdout",
     "output_type": "stream",
     "text": [
      "1000 3000\n"
     ]
    }
   ],
   "source": [
    "print(len(prob_dev),len(prob_train))"
   ]
  },
  {
   "cell_type": "code",
   "execution_count": 682,
   "metadata": {},
   "outputs": [],
   "source": [
    "#currently i am using one feature change it when u want\n",
    "feature_train = tf_idf_train\n",
    "feature_dev =tf_idf_dev"
   ]
  },
  {
   "cell_type": "code",
   "execution_count": 683,
   "metadata": {},
   "outputs": [],
   "source": [
    "# Get CBOW & Skip Gram Features for training and dev\n",
    "X_train_cbow_w2v, X_train_sg_w2v = get_word_embeddings_features(sentences_train)\n",
    "X_dev_cbow_w2v, X_dev_sg_w2v = get_word_embeddings_features(sentences_dev)"
   ]
  },
  {
   "cell_type": "code",
   "execution_count": 684,
   "metadata": {},
   "outputs": [],
   "source": [
    "min_x_train_cbow =abs(np.min(X_train_cbow_w2v))\n",
    "min_x_dev_cbow= abs(np.min(X_dev_cbow_w2v))\n",
    "min_x_train_sg = abs(np.min(X_train_sg_w2v))\n",
    "min_x_dev_sg = abs(np.min(X_dev_sg_w2v))"
   ]
  },
  {
   "cell_type": "code",
   "execution_count": 685,
   "metadata": {},
   "outputs": [
    {
     "data": {
      "text/plain": [
       "100"
      ]
     },
     "execution_count": 685,
     "metadata": {},
     "output_type": "execute_result"
    }
   ],
   "source": [
    "len(X_train_cbow_w2v[0])"
   ]
  },
  {
   "cell_type": "code",
   "execution_count": 686,
   "metadata": {},
   "outputs": [
    {
     "data": {
      "text/plain": [
       "(100,)"
      ]
     },
     "execution_count": 686,
     "metadata": {},
     "output_type": "execute_result"
    }
   ],
   "source": [
    "X_dev_cbow_w2v[0].shape"
   ]
  },
  {
   "cell_type": "code",
   "execution_count": 687,
   "metadata": {},
   "outputs": [],
   "source": [
    "feature_train=np.array(prob_train).reshape(-1,1)\n",
    "feature_dev=np.array(prob_dev).reshape(-1,1)\n",
    "# for i in range(0, len(sentences_train)):\n",
    "#     new_tf_idf_train= tf_idf_train[i]\n",
    "#     new_tf_idf_train.append(prob_train[i])\n",
    "#     new_feature= new_tf_idf_train\n",
    "#     # new_feature = np.concatenate((new_feature,X_train_sg_w2v[i]+min_x_train_sg))\n",
    "#     feature_train.append(new_feature)\n",
    "# for i in range(0,len(sentences_dev)):\n",
    "#     new_tf_idf_dev=tf_idf_dev[i]\n",
    "#     new_tf_idf_dev.append(prob_dev[i])\n",
    "#     feature_dev.append(new_feature)\n"
   ]
  },
  {
   "cell_type": "code",
   "execution_count": 688,
   "metadata": {},
   "outputs": [
    {
     "data": {
      "text/plain": [
       "3000"
      ]
     },
     "execution_count": 688,
     "metadata": {},
     "output_type": "execute_result"
    }
   ],
   "source": [
    "len(prob_train)"
   ]
  },
  {
   "cell_type": "code",
   "execution_count": 689,
   "metadata": {},
   "outputs": [],
   "source": [
    "#models imports\n",
    "from sklearn import metrics\n",
    "from sklearn.metrics import confusion_matrix\n",
    "from sklearn.metrics import accuracy_score\n",
    "from  matplotlib import pyplot "
   ]
  },
  {
   "cell_type": "code",
   "execution_count": 690,
   "metadata": {},
   "outputs": [],
   "source": [
    "values =np.linspace(1, 1000, num=1000)"
   ]
  },
  {
   "cell_type": "code",
   "execution_count": 691,
   "metadata": {},
   "outputs": [
    {
     "name": "stdout",
     "output_type": "stream",
     "text": [
      " Model Accuracy is {77.2}\n",
      "70\n",
      "126\n",
      "804\n",
      " Model Accuracy is {77.4}\n",
      "70\n",
      "126\n",
      "804\n",
      " Model Accuracy is {77.4}\n",
      "70\n",
      "126\n",
      "804\n",
      " Model Accuracy is {77.3}\n",
      "70\n",
      "126\n",
      "804\n",
      " Model Accuracy is {7.7}\n",
      "70\n",
      "126\n",
      "804\n",
      " Model Accuracy is {7.5}\n",
      "70\n",
      "126\n",
      "804\n",
      " Model Accuracy is {77.3}\n",
      "70\n",
      "126\n",
      "804\n"
     ]
    }
   ],
   "source": [
    "# Boost 100 weak decision trees\n",
    "\n",
    "n_estimators = [50, 100, 150, 200, 250, 300, 350]\n",
    "train_scores=[]\n",
    "test_scores=[]\n",
    "for val in n_estimators:\n",
    "    model = RandomForestClassifier(n_estimators=val)\n",
    "    model = model.fit(feature_train, stance_train)\n",
    "    predictions = model.predict(feature_dev)\n",
    "    acc = {metrics.accuracy_score(stance_dev, predictions) * 100}\n",
    "    print(f\" Model Accuracy is {acc}\")\n",
    "    print(len(predictions[stance_dev==0]))\n",
    "    print(len(predictions[stance_dev==1]))\n",
    "    print(len(predictions[stance_dev==2]))\n",
    "    # print(metrics.classification_report(stance_dev,predictions))\n",
    "    train_score = accuracy_score(stance_train,model.predict(feature_train))\n",
    "    train_scores.append(train_score)\n",
    "    test_score = accuracy_score(stance_dev,model.predict(feature_dev))\n",
    "    test_scores.append(test_score)"
   ]
  },
  {
   "cell_type": "code",
   "execution_count": 692,
   "metadata": {},
   "outputs": [
    {
     "data": {
      "image/png": "[encoded data removed]",
      "text/plain": [
       "<Figure size 640x480 with 1 Axes>"
      ]
     },
     "metadata": {},
     "output_type": "display_data"
    }
   ],
   "source": [
    "# plot of train and test scores vs tree depth\n",
    "pyplot.plot(n_estimators, train_scores, '-o', label='Train')\n",
    "pyplot.plot(n_estimators, test_scores, '-o', label='Test')\n",
    "pyplot.legend()\n",
    "pyplot.show()"
   ]
  },
  {
   "cell_type": "code",
   "execution_count": 693,
   "metadata": {},
   "outputs": [
    {
     "name": "stdout",
     "output_type": "stream",
     "text": [
      "              precision    recall  f1-score   support\n",
      "\n",
      "           0       0.00      0.00      0.00        70\n",
      "           1       0.09      0.02      0.04       126\n",
      "           2       0.80      0.96      0.87       804\n",
      "\n",
      "    accuracy                           0.77      1000\n",
      "   macro avg       0.30      0.33      0.30      1000\n",
      "weighted avg       0.65      0.77      0.71      1000\n",
      "\n"
     ]
    }
   ],
   "source": [
    "print(metrics.classification_report(stance_dev,predictions))"
   ]
  },
  {
   "cell_type": "code",
   "execution_count": 694,
   "metadata": {},
   "outputs": [],
   "source": [
    "cm = confusion_matrix(stance_dev, predictions)\n"
   ]
  },
  {
   "cell_type": "code",
   "execution_count": 695,
   "metadata": {},
   "outputs": [
    {
     "name": "stdout",
     "output_type": "stream",
     "text": [
      "[[  0   1  69]\n",
      " [  0   3 123]\n",
      " [  4  30 770]]\n"
     ]
    }
   ],
   "source": [
    "print(cm)"
   ]
  },
  {
   "cell_type": "code",
   "execution_count": 696,
   "metadata": {},
   "outputs": [],
   "source": [
    "# Boost 100 weak decision trees\n",
    "model = RandomForestClassifier(n_estimators=100)\n",
    "#GradientBoostingClassifier(n_estimators=100, learning_rate=1.0, max_depth=1)\n",
    "\n",
    "model = model.fit(feature_train, category_train)"
   ]
  },
  {
   "cell_type": "code",
   "execution_count": 697,
   "metadata": {},
   "outputs": [
    {
     "name": "stdout",
     "output_type": "stream",
     "text": [
      "train accuarcy 0.5126666666666667\n",
      " Model Accuracy is {53.400000000000006}\n"
     ]
    }
   ],
   "source": [
    "predictions = model.predict(feature_dev)\n",
    "acc = {metrics.accuracy_score(category_dev, predictions) * 100}\n",
    "train_score = accuracy_score(category_train,model.predict(feature_train))\n",
    "print(\"train accuarcy\", train_score)\n",
    "print(f\" Model Accuracy is {acc}\")"
   ]
  },
  {
   "cell_type": "code",
   "execution_count": 698,
   "metadata": {},
   "outputs": [
    {
     "name": "stdout",
     "output_type": "stream",
     "text": [
      "              precision    recall  f1-score   support\n",
      "\n",
      "           0       0.55      0.98      0.70       545\n",
      "           1       0.00      0.00      0.00       145\n",
      "           2       0.00      0.00      0.00        82\n",
      "           3       0.00      0.00      0.00        20\n",
      "           4       0.00      0.00      0.00        15\n",
      "           5       0.00      0.00      0.00        10\n",
      "           6       0.00      0.00      0.00         2\n",
      "           7       0.00      0.00      0.00       128\n",
      "           8       0.05      0.03      0.04        36\n",
      "           9       0.11      0.06      0.08        17\n",
      "\n",
      "    accuracy                           0.53      1000\n",
      "   macro avg       0.07      0.11      0.08      1000\n",
      "weighted avg       0.30      0.53      0.39      1000\n",
      "\n"
     ]
    },
    {
     "name": "stderr",
     "output_type": "stream",
     "text": [
      "c:\\Users\\rorod\\miniforge3\\envs\\new_python_nlp_2\\lib\\site-packages\\sklearn\\metrics\\_classification.py:1318: UndefinedMetricWarning: Precision and F-score are ill-defined and being set to 0.0 in labels with no predicted samples. Use `zero_division` parameter to control this behavior.\n",
      "  _warn_prf(average, modifier, msg_start, len(result))\n",
      "c:\\Users\\rorod\\miniforge3\\envs\\new_python_nlp_2\\lib\\site-packages\\sklearn\\metrics\\_classification.py:1318: UndefinedMetricWarning: Precision and F-score are ill-defined and being set to 0.0 in labels with no predicted samples. Use `zero_division` parameter to control this behavior.\n",
      "  _warn_prf(average, modifier, msg_start, len(result))\n",
      "c:\\Users\\rorod\\miniforge3\\envs\\new_python_nlp_2\\lib\\site-packages\\sklearn\\metrics\\_classification.py:1318: UndefinedMetricWarning: Precision and F-score are ill-defined and being set to 0.0 in labels with no predicted samples. Use `zero_division` parameter to control this behavior.\n",
      "  _warn_prf(average, modifier, msg_start, len(result))\n"
     ]
    }
   ],
   "source": [
    "print(metrics.classification_report(category_dev,predictions))"
   ]
  },
  {
   "cell_type": "code",
   "execution_count": 699,
   "metadata": {},
   "outputs": [],
   "source": [
    "from sklearn.ensemble import RandomForestClassifier\n",
    "from sklearn.model_selection import StratifiedKFold\n",
    "from sklearn.metrics import roc_curve, auc, confusion_matrix\n"
   ]
  },
  {
   "cell_type": "code",
   "execution_count": 700,
   "metadata": {},
   "outputs": [
    {
     "name": "stdout",
     "output_type": "stream",
     "text": [
      "train accuarcy 0.33666666666666667\n",
      "80.0\n"
     ]
    }
   ],
   "source": [
    "import time\n",
    "from sklearn import svm,metrics\n",
    "\n",
    "\n",
    "classifier_linear = svm.SVC(kernel='linear')\n",
    "\n",
    "classifier_linear.fit(feature_train, stance_train)\n",
    "\n",
    "predictions  = classifier_linear.predict(feature_dev)\n",
    "train_score = accuracy_score(stance_train,classifier_linear.predict(feature_train))\n",
    "print(\"train accuarcy\", train_score)\n",
    "print(metrics.accuracy_score(stance_dev, predictions) * 100)\n",
    "\n"
   ]
  },
  {
   "cell_type": "code",
   "execution_count": 701,
   "metadata": {},
   "outputs": [
    {
     "name": "stdout",
     "output_type": "stream",
     "text": [
      "              precision    recall  f1-score   support\n",
      "\n",
      "           0       0.00      0.00      0.00        70\n",
      "           1       0.14      0.01      0.02       126\n",
      "           2       0.80      0.99      0.89       804\n",
      "\n",
      "    accuracy                           0.80      1000\n",
      "   macro avg       0.32      0.33      0.30      1000\n",
      "weighted avg       0.66      0.80      0.72      1000\n",
      "\n"
     ]
    },
    {
     "name": "stderr",
     "output_type": "stream",
     "text": [
      "c:\\Users\\rorod\\miniforge3\\envs\\new_python_nlp_2\\lib\\site-packages\\sklearn\\metrics\\_classification.py:1318: UndefinedMetricWarning: Precision and F-score are ill-defined and being set to 0.0 in labels with no predicted samples. Use `zero_division` parameter to control this behavior.\n",
      "  _warn_prf(average, modifier, msg_start, len(result))\n",
      "c:\\Users\\rorod\\miniforge3\\envs\\new_python_nlp_2\\lib\\site-packages\\sklearn\\metrics\\_classification.py:1318: UndefinedMetricWarning: Precision and F-score are ill-defined and being set to 0.0 in labels with no predicted samples. Use `zero_division` parameter to control this behavior.\n",
      "  _warn_prf(average, modifier, msg_start, len(result))\n",
      "c:\\Users\\rorod\\miniforge3\\envs\\new_python_nlp_2\\lib\\site-packages\\sklearn\\metrics\\_classification.py:1318: UndefinedMetricWarning: Precision and F-score are ill-defined and being set to 0.0 in labels with no predicted samples. Use `zero_division` parameter to control this behavior.\n",
      "  _warn_prf(average, modifier, msg_start, len(result))\n"
     ]
    }
   ],
   "source": [
    "print(metrics.classification_report(stance_dev,predictions))"
   ]
  },
  {
   "cell_type": "code",
   "execution_count": 702,
   "metadata": {},
   "outputs": [
    {
     "name": "stdout",
     "output_type": "stream",
     "text": [
      "train accuarcy 0.497\n",
      "54.50000000000001\n"
     ]
    }
   ],
   "source": [
    "\n",
    "classifier_linear = svm.SVC(kernel='linear')\n",
    "\n",
    "classifier_linear.fit(feature_train, category_train)\n",
    "predictions  = classifier_linear.predict(feature_dev)\n",
    "train_score = accuracy_score(category_train,classifier_linear.predict(feature_train))\n",
    "print(\"train accuarcy\", train_score)\n",
    "print(metrics.accuracy_score(category_dev, predictions) * 100)\n"
   ]
  },
  {
   "cell_type": "code",
   "execution_count": 703,
   "metadata": {},
   "outputs": [
    {
     "name": "stdout",
     "output_type": "stream",
     "text": [
      "              precision    recall  f1-score   support\n",
      "\n",
      "           0       0.55      1.00      0.71       545\n",
      "           1       0.00      0.00      0.00       145\n",
      "           2       0.00      0.00      0.00        82\n",
      "           3       0.00      0.00      0.00        20\n",
      "           4       0.00      0.00      0.00        15\n",
      "           5       0.00      0.00      0.00        10\n",
      "           6       0.00      0.00      0.00         2\n",
      "           7       0.00      0.00      0.00       128\n",
      "           8       0.00      0.00      0.00        36\n",
      "           9       0.00      0.00      0.00        17\n",
      "\n",
      "    accuracy                           0.55      1000\n",
      "   macro avg       0.05      0.10      0.07      1000\n",
      "weighted avg       0.30      0.55      0.38      1000\n",
      "\n"
     ]
    },
    {
     "name": "stderr",
     "output_type": "stream",
     "text": [
      "c:\\Users\\rorod\\miniforge3\\envs\\new_python_nlp_2\\lib\\site-packages\\sklearn\\metrics\\_classification.py:1318: UndefinedMetricWarning: Precision and F-score are ill-defined and being set to 0.0 in labels with no predicted samples. Use `zero_division` parameter to control this behavior.\n",
      "  _warn_prf(average, modifier, msg_start, len(result))\n",
      "c:\\Users\\rorod\\miniforge3\\envs\\new_python_nlp_2\\lib\\site-packages\\sklearn\\metrics\\_classification.py:1318: UndefinedMetricWarning: Precision and F-score are ill-defined and being set to 0.0 in labels with no predicted samples. Use `zero_division` parameter to control this behavior.\n",
      "  _warn_prf(average, modifier, msg_start, len(result))\n",
      "c:\\Users\\rorod\\miniforge3\\envs\\new_python_nlp_2\\lib\\site-packages\\sklearn\\metrics\\_classification.py:1318: UndefinedMetricWarning: Precision and F-score are ill-defined and being set to 0.0 in labels with no predicted samples. Use `zero_division` parameter to control this behavior.\n",
      "  _warn_prf(average, modifier, msg_start, len(result))\n"
     ]
    }
   ],
   "source": [
    "print(metrics.classification_report(category_dev,predictions))"
   ]
  },
  {
   "cell_type": "code",
   "execution_count": 704,
   "metadata": {},
   "outputs": [],
   "source": [
    "# Create model(naive bayes) and training. \n",
    "from sklearn.naive_bayes import MultinomialNB\n",
    "clf = MultinomialNB().fit(feature_train, stance_train)"
   ]
  },
  {
   "cell_type": "code",
   "execution_count": 705,
   "metadata": {},
   "outputs": [
    {
     "name": "stdout",
     "output_type": "stream",
     "text": [
      "train accuarcy 0.3333333333333333\n",
      "Accuracy: 7.000000000000001\n",
      "70\n",
      "126\n",
      "804\n"
     ]
    }
   ],
   "source": [
    "predicted = clf.predict(feature_dev)\n",
    "# Model Accuracy, how often is the classifier correct?\n",
    "train_score = accuracy_score(stance_train,clf.predict(feature_train))\n",
    "print(\"train accuarcy\", train_score)\n",
    "print(\"Accuracy:\",metrics.accuracy_score(stance_dev, predicted)*100)\n",
    "print(len(predicted[stance_dev==0]))\n",
    "print(len(predicted[stance_dev==1]))\n",
    "print(len(predicted[stance_dev==2]))"
   ]
  },
  {
   "cell_type": "code",
   "execution_count": 706,
   "metadata": {},
   "outputs": [
    {
     "name": "stdout",
     "output_type": "stream",
     "text": [
      "              precision    recall  f1-score   support\n",
      "\n",
      "           0       0.07      1.00      0.13        70\n",
      "           1       0.00      0.00      0.00       126\n",
      "           2       0.00      0.00      0.00       804\n",
      "\n",
      "    accuracy                           0.07      1000\n",
      "   macro avg       0.02      0.33      0.04      1000\n",
      "weighted avg       0.00      0.07      0.01      1000\n",
      "\n"
     ]
    },
    {
     "name": "stderr",
     "output_type": "stream",
     "text": [
      "c:\\Users\\rorod\\miniforge3\\envs\\new_python_nlp_2\\lib\\site-packages\\sklearn\\metrics\\_classification.py:1318: UndefinedMetricWarning: Precision and F-score are ill-defined and being set to 0.0 in labels with no predicted samples. Use `zero_division` parameter to control this behavior.\n",
      "  _warn_prf(average, modifier, msg_start, len(result))\n",
      "c:\\Users\\rorod\\miniforge3\\envs\\new_python_nlp_2\\lib\\site-packages\\sklearn\\metrics\\_classification.py:1318: UndefinedMetricWarning: Precision and F-score are ill-defined and being set to 0.0 in labels with no predicted samples. Use `zero_division` parameter to control this behavior.\n",
      "  _warn_prf(average, modifier, msg_start, len(result))\n",
      "c:\\Users\\rorod\\miniforge3\\envs\\new_python_nlp_2\\lib\\site-packages\\sklearn\\metrics\\_classification.py:1318: UndefinedMetricWarning: Precision and F-score are ill-defined and being set to 0.0 in labels with no predicted samples. Use `zero_division` parameter to control this behavior.\n",
      "  _warn_prf(average, modifier, msg_start, len(result))\n"
     ]
    }
   ],
   "source": [
    "print(metrics.classification_report(stance_dev,predicted))"
   ]
  },
  {
   "cell_type": "code",
   "execution_count": 707,
   "metadata": {},
   "outputs": [],
   "source": [
    "# Create model(naive bayes) and training. \n",
    "from sklearn.naive_bayes import MultinomialNB\n",
    "clf = MultinomialNB().fit(feature_train, category_train)"
   ]
  },
  {
   "cell_type": "code",
   "execution_count": 708,
   "metadata": {},
   "outputs": [
    {
     "name": "stdout",
     "output_type": "stream",
     "text": [
      "Accuracy: 54.50000000000001\n",
      "train accuarcy 0.497\n"
     ]
    }
   ],
   "source": [
    "predicted = clf.predict(feature_dev)\n",
    "# Model Accuracy, how often is the classifier correct?\n",
    "print(\"Accuracy:\",metrics.accuracy_score(category_dev, predicted)*100)\n",
    "train_score = accuracy_score(category_train,clf.predict(feature_train))\n",
    "print(\"train accuarcy\", train_score)"
   ]
  },
  {
   "cell_type": "code",
   "execution_count": 709,
   "metadata": {},
   "outputs": [
    {
     "name": "stdout",
     "output_type": "stream",
     "text": [
      "              precision    recall  f1-score   support\n",
      "\n",
      "           0       0.55      1.00      0.71       545\n",
      "           1       0.00      0.00      0.00       145\n",
      "           2       0.00      0.00      0.00        82\n",
      "           3       0.00      0.00      0.00        20\n",
      "           4       0.00      0.00      0.00        15\n",
      "           5       0.00      0.00      0.00        10\n",
      "           6       0.00      0.00      0.00         2\n",
      "           7       0.00      0.00      0.00       128\n",
      "           8       0.00      0.00      0.00        36\n",
      "           9       0.00      0.00      0.00        17\n",
      "\n",
      "    accuracy                           0.55      1000\n",
      "   macro avg       0.05      0.10      0.07      1000\n",
      "weighted avg       0.30      0.55      0.38      1000\n",
      "\n"
     ]
    },
    {
     "name": "stderr",
     "output_type": "stream",
     "text": [
      "c:\\Users\\rorod\\miniforge3\\envs\\new_python_nlp_2\\lib\\site-packages\\sklearn\\metrics\\_classification.py:1318: UndefinedMetricWarning: Precision and F-score are ill-defined and being set to 0.0 in labels with no predicted samples. Use `zero_division` parameter to control this behavior.\n",
      "  _warn_prf(average, modifier, msg_start, len(result))\n",
      "c:\\Users\\rorod\\miniforge3\\envs\\new_python_nlp_2\\lib\\site-packages\\sklearn\\metrics\\_classification.py:1318: UndefinedMetricWarning: Precision and F-score are ill-defined and being set to 0.0 in labels with no predicted samples. Use `zero_division` parameter to control this behavior.\n",
      "  _warn_prf(average, modifier, msg_start, len(result))\n",
      "c:\\Users\\rorod\\miniforge3\\envs\\new_python_nlp_2\\lib\\site-packages\\sklearn\\metrics\\_classification.py:1318: UndefinedMetricWarning: Precision and F-score are ill-defined and being set to 0.0 in labels with no predicted samples. Use `zero_division` parameter to control this behavior.\n",
      "  _warn_prf(average, modifier, msg_start, len(result))\n"
     ]
    }
   ],
   "source": [
    "print(metrics.classification_report(category_dev,predicted))"
   ]
  },
  {
   "cell_type": "code",
   "execution_count": null,
   "metadata": {},
   "outputs": [],
   "source": [
    "# kf =KFold(n_splits=10, shuffle=True, random_state=42)\n",
    "\n",
    "# cnt = 1\n",
    "# # split()  method generate indices to split data into training and test set.\n",
    "# for train_index, test_index in kf.split(features, stance):\n",
    "#     print(f'Fold:{cnt}, Train set: {len(train_index)}, Test set:{len(test_index)}')\n",
    "#     cnt += 1"
   ]
  },
  {
   "cell_type": "code",
   "execution_count": null,
   "metadata": {},
   "outputs": [],
   "source": [
    "model = RandomForestClassifier(n_estimators=300)"
   ]
  },
  {
   "cell_type": "code",
   "execution_count": null,
   "metadata": {},
   "outputs": [],
   "source": [
    "# n_estimators = [50, 100, 150, 200, 250, 300, 350]\n",
    "\n",
    "# for val in n_estimators:\n",
    "#     score = cross_val_score(RandomForestClassifier(n_estimators= val, random_state= 42) ,features, stance, cv= kf, scoring=\"accuracy\")\n",
    "#     print(f'Average score({val}): {\"{:.3f}\".format(score.mean())}')"
   ]
  },
  {
   "cell_type": "code",
   "execution_count": null,
   "metadata": {},
   "outputs": [],
   "source": [
    "# n_estimators = [50, 100, 150, 200, 250, 300, 350]\n",
    "\n",
    "# for val in n_estimators:\n",
    "#     score = cross_val_score(RandomForestClassifier(n_estimators= val, random_state= 42) ,features, category, cv= kf, scoring=\"accuracy\")\n",
    "#     print(f'Average score({val}): {\"{:.3f}\".format(score.mean())}')\n"
   ]
  },
  {
   "cell_type": "code",
   "execution_count": 710,
   "metadata": {},
   "outputs": [],
   "source": [
    "from sklearn.linear_model import LogisticRegression"
   ]
  },
  {
   "cell_type": "code",
   "execution_count": 711,
   "metadata": {},
   "outputs": [
    {
     "name": "stdout",
     "output_type": "stream",
     "text": [
      "Accuracy: 79.7\n",
      "              precision    recall  f1-score   support\n",
      "\n",
      "           0       0.00      0.00      0.00        70\n",
      "           1       0.10      0.01      0.01       126\n",
      "           2       0.80      0.99      0.89       804\n",
      "\n",
      "    accuracy                           0.80      1000\n",
      "   macro avg       0.30      0.33      0.30      1000\n",
      "weighted avg       0.66      0.80      0.72      1000\n",
      "\n",
      "Accuracy: 54.50000000000001\n",
      "              precision    recall  f1-score   support\n",
      "\n",
      "           0       0.55      1.00      0.71       545\n",
      "           1       0.00      0.00      0.00       145\n",
      "           2       0.00      0.00      0.00        82\n",
      "           3       0.00      0.00      0.00        20\n",
      "           4       0.00      0.00      0.00        15\n",
      "           5       0.00      0.00      0.00        10\n",
      "           6       0.00      0.00      0.00         2\n",
      "           7       0.00      0.00      0.00       128\n",
      "           8       0.00      0.00      0.00        36\n",
      "           9       0.00      0.00      0.00        17\n",
      "\n",
      "    accuracy                           0.55      1000\n",
      "   macro avg       0.05      0.10      0.07      1000\n",
      "weighted avg       0.30      0.55      0.38      1000\n",
      "\n"
     ]
    },
    {
     "name": "stderr",
     "output_type": "stream",
     "text": [
      "c:\\Users\\rorod\\miniforge3\\envs\\new_python_nlp_2\\lib\\site-packages\\sklearn\\metrics\\_classification.py:1318: UndefinedMetricWarning: Precision and F-score are ill-defined and being set to 0.0 in labels with no predicted samples. Use `zero_division` parameter to control this behavior.\n",
      "  _warn_prf(average, modifier, msg_start, len(result))\n",
      "c:\\Users\\rorod\\miniforge3\\envs\\new_python_nlp_2\\lib\\site-packages\\sklearn\\metrics\\_classification.py:1318: UndefinedMetricWarning: Precision and F-score are ill-defined and being set to 0.0 in labels with no predicted samples. Use `zero_division` parameter to control this behavior.\n",
      "  _warn_prf(average, modifier, msg_start, len(result))\n",
      "c:\\Users\\rorod\\miniforge3\\envs\\new_python_nlp_2\\lib\\site-packages\\sklearn\\metrics\\_classification.py:1318: UndefinedMetricWarning: Precision and F-score are ill-defined and being set to 0.0 in labels with no predicted samples. Use `zero_division` parameter to control this behavior.\n",
      "  _warn_prf(average, modifier, msg_start, len(result))\n",
      "c:\\Users\\rorod\\miniforge3\\envs\\new_python_nlp_2\\lib\\site-packages\\sklearn\\metrics\\_classification.py:1318: UndefinedMetricWarning: Precision and F-score are ill-defined and being set to 0.0 in labels with no predicted samples. Use `zero_division` parameter to control this behavior.\n",
      "  _warn_prf(average, modifier, msg_start, len(result))\n",
      "c:\\Users\\rorod\\miniforge3\\envs\\new_python_nlp_2\\lib\\site-packages\\sklearn\\metrics\\_classification.py:1318: UndefinedMetricWarning: Precision and F-score are ill-defined and being set to 0.0 in labels with no predicted samples. Use `zero_division` parameter to control this behavior.\n",
      "  _warn_prf(average, modifier, msg_start, len(result))\n",
      "c:\\Users\\rorod\\miniforge3\\envs\\new_python_nlp_2\\lib\\site-packages\\sklearn\\metrics\\_classification.py:1318: UndefinedMetricWarning: Precision and F-score are ill-defined and being set to 0.0 in labels with no predicted samples. Use `zero_division` parameter to control this behavior.\n",
      "  _warn_prf(average, modifier, msg_start, len(result))\n"
     ]
    }
   ],
   "source": [
    "#Fitting The Stance Detection Model using Logistic Regression (W2v)\n",
    "lr_w2v=LogisticRegression(solver = 'liblinear', C=10, penalty = 'l2')\n",
    "lr_w2v.fit(feature_train, stance_train)  #model\n",
    "\n",
    "#Predict y value for test dataset\n",
    "stance_predict = lr_w2v.predict(feature_dev)\n",
    "stance_prob = lr_w2v.predict_proba(feature_dev)[:,1]\n",
    "print(\"Accuracy:\",metrics.accuracy_score(stance_dev, stance_predict)*100)\n",
    "print(metrics.classification_report(stance_dev,stance_predict))\n",
    "\n",
    "# Fitting The Classification Model using Logistic Regression (W2v)\n",
    "lr_w2v2=LogisticRegression(solver = 'liblinear', C=10, penalty = 'l2')\n",
    "lr_w2v2.fit(feature_train, category_train)  #model\n",
    "\n",
    "#Predict y value for test dataset\n",
    "categ_predict = lr_w2v2.predict(feature_dev)\n",
    "print(\"Accuracy:\",metrics.accuracy_score(category_dev, categ_predict)*100)\n",
    "print(metrics.classification_report(category_dev,categ_predict))\n",
    "categ_prob = lr_w2v2.predict_proba(feature_dev)[:,1]"
   ]
  }
 ],
 "metadata": {
  "kernelspec": {
   "display_name": "Python 3",
   "language": "python",
   "name": "python3"
  },
  "language_info": {
   "codemirror_mode": {
    "name": "ipython",
    "version": 3
   },
   "file_extension": ".py",
   "mimetype": "text/x-python",
   "name": "python",
   "nbconvert_exporter": "python",
   "pygments_lexer": "ipython3",
   "version": "3.7.12"
  },
  "orig_nbformat": 4,
  "vscode": {
   "interpreter": {
    "hash": "fcf9cbd0c10e7b20be0354504d5dd91617ed7515deed89fb2407bea1e8233e1a"
   }
  }
 },
 "nbformat": 4,
 "nbformat_minor": 2
}
