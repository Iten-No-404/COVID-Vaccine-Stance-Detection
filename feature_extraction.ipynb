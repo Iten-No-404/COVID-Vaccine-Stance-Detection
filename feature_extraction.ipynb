{
 "cells": [
  {
   "cell_type": "code",
   "execution_count": 1,
   "metadata": {},
   "outputs": [],
   "source": [
    "import pandas as pd\n",
    "from sklearn.feature_extraction.text import TfidfVectorizer,CountVectorizer,TfidfTransformer \n",
    "import numpy\n",
    "import nltk, re, string, collections\n",
    "from nltk.util import ngrams\n",
    "import pandas as pd\n",
    "import numpy as np\n",
    "from nltk.tokenize import word_tokenize\n",
    "from nltk import pos_tag\n",
    "from nltk.corpus import stopwords\n",
    "from nltk.stem import WordNetLemmatizer\n",
    "from sklearn.preprocessing import LabelEncoder\n",
    "from collections import defaultdict\n",
    "from nltk.corpus import wordnet as wn\n",
    "from sklearn.feature_extraction.text import TfidfVectorizer\n",
    "from sklearn import model_selection, naive_bayes, svm\n",
    "from sklearn.metrics import accuracy_score\n"
   ]
  },
  {
   "cell_type": "code",
   "execution_count": 2,
   "metadata": {},
   "outputs": [],
   "source": [
    "def read_cleaned_data_set():\n",
    "    file = open(\"output/tokens_no_stopwords_train.txt\", encoding='utf-8')\n",
    "    corpus =[]\n",
    "    lines = file.readlines()\n",
    "    for line in lines:\n",
    "        result=line.rstrip('\\n')\n",
    "        if len(result)>0:\n",
    "            result = result[1:len(result)-2]\n",
    "            result=result.replace(\",\",\"\")\n",
    "            result= result.replace(\"'\",\"\")\n",
    "        \n",
    "            corpus.append(result)\n",
    "    return corpus"
   ]
  },
  {
   "cell_type": "code",
   "execution_count": 3,
   "metadata": {},
   "outputs": [],
   "source": [
    "corpus =read_cleaned_data_set()\n"
   ]
  },
  {
   "cell_type": "code",
   "execution_count": 4,
   "metadata": {},
   "outputs": [],
   "source": [
    "def get_TF_IDF(docs): \n",
    "    #create tf-idf vector & enable idf to calculate them in one steps\n",
    "    tfIdfVectorizer=TfidfVectorizer(use_idf=True)\n",
    "    #get values for docs\n",
    "    tfIdf = tfIdfVectorizer.fit_transform(docs)\n",
    "   \n",
    "    # get first tf-idfs for first doc only to be visualized\n",
    "    # get features names mean get words\n",
    "    df = pd.DataFrame(tfIdf[0].T.todense(), index=tfIdfVectorizer.get_feature_names(), columns=[\"TF-IDF\"])\n",
    "    #sorting them\n",
    "    df = df.sort_values('TF-IDF', ascending=False)\n",
    "    dict_res = df.to_dict()\n",
    "    dict_res= dict_res['TF-IDF']\n",
    "   \n",
    "    # print(df.head(15))\n",
    "    return dict_res\n",
    "\n",
    "    #show first 15 of them \n",
    "\n",
    "    \n"
   ]
  },
  {
   "cell_type": "code",
   "execution_count": 5,
   "metadata": {},
   "outputs": [
    {
     "name": "stderr",
     "output_type": "stream",
     "text": [
      "c:\\Users\\rorod\\miniforge3\\envs\\new_python_nlp_2\\lib\\site-packages\\sklearn\\utils\\deprecation.py:87: FutureWarning: Function get_feature_names is deprecated; get_feature_names is deprecated in 1.0 and will be removed in 1.2. Please use get_feature_names_out instead.\n",
      "  warnings.warn(msg, category=FutureWarning)\n"
     ]
    }
   ],
   "source": [
    "dict_res=get_TF_IDF(corpus)\n",
    "# print(dict_res)\n",
    "# print(tf_idf.vocabulary_)"
   ]
  },
  {
   "cell_type": "code",
   "execution_count": 6,
   "metadata": {},
   "outputs": [],
   "source": [
    "def assign_tf_idf(corpus,dict_res):\n",
    "    td_idf_sentences=[]\n",
    "    for text in corpus:\n",
    "        text= text.split()\n",
    "        tf_idf= []\n",
    "        for value in text:\n",
    "            tf_idf.append(dict_res[value])\n",
    "        td_idf_sentences.append(tf_idf)\n",
    "    return td_idf_sentences"
   ]
  },
  {
   "cell_type": "code",
   "execution_count": 7,
   "metadata": {},
   "outputs": [
    {
     "name": "stdout",
     "output_type": "stream",
     "text": [
      "[0.1957229567998964, 0.20336576437522846, 0.09062342317799071, 0.03455527835278504, 0.21898140679919656, 0.2100423980628473, 0.2433243687609579, 0.18215192710826753, 0.22490962891549338, 0.2433243687609579, 0.2433243687609579, 0.19803457533604235, 0.22490962891549338, 0.153411767248694, 0.08285380460363088, 0.19162765821738278, 0.2433243687609579, 0.1880801492245643, 0.12206399741803829, 0.13886813179573265, 0.12363139771470806, 0.23255243649082546, 0.14599506192196865, 0.16198275746099583, 0.20649488907002883, 0.1705088724072879, 0.16198275746099583, 0.1705088724072879, 0.23255243649082546]\n"
     ]
    }
   ],
   "source": [
    "td_idf_sentences=assign_tf_idf(corpus,dict_res)\n",
    "print(td_idf_sentences[0])"
   ]
  },
  {
   "cell_type": "code",
   "execution_count": 8,
   "metadata": {},
   "outputs": [],
   "source": [
    "def get_tokens_freq(corpus):\n",
    "    # corpus_new = corpus.split()\n",
    "    tokens ={}\n",
    "    for text in corpus:\n",
    "        text = text.split()\n",
    "        for value in text:\n",
    "            if value in tokens :\n",
    "                tokens[value]+=1\n",
    "            else:\n",
    "                tokens[value]=1\n",
    "    return tokens"
   ]
  },
  {
   "cell_type": "code",
   "execution_count": 9,
   "metadata": {},
   "outputs": [],
   "source": [
    "def get_n_grams(corpus, n_gram):\n",
    "    all_n_grams=[]\n",
    "    for text in corpus:\n",
    "        padding = [\"باد\"]*(n_gram-1)\n",
    "        text = text.split()\n",
    "        text = padding+ text+padding\n",
    "        n_grams = ngrams(text, n_gram)\n",
    "        all_n_grams+=n_grams\n",
    "    ngramFreq = collections.Counter(all_n_grams)\n",
    "    return ngramFreq\n"
   ]
  },
  {
   "cell_type": "code",
   "execution_count": 10,
   "metadata": {},
   "outputs": [],
   "source": [
    "def convert_ngrams_probablities( n,corpus):\n",
    "  probablities =[]\n",
    "  ngrams= get_n_grams(corpus,n)\n",
    "  \n",
    "  # print(\"kdkdk\",ngrams)\n",
    "  if n>1:\n",
    "    n_minus_one_grams = get_n_grams(corpus, n-1)\n",
    "  tokens =get_tokens_freq(corpus)\n",
    "  for text in corpus:\n",
    "    padding = [\"باد\"]*(n-1)\n",
    "    text_value=text.split()\n",
    "    text_value= padding+text_value+padding\n",
    "    prob_list= []\n",
    "    for index in range(n, len(text_value)-n) :\n",
    "      n_gram_text = tuple(text_value[index-n:index ])\n",
    "      n_minus_one_grams_text = tuple(text_value[index-n:index-1])\n",
    "      #here to add one smooth padding\n",
    "      # nomiantor=1\n",
    "      # dominator=len(tokens) \n",
    "      nomiantor=0.0\n",
    "      dominator=0.0\n",
    "      if n_gram_text in ngrams:\n",
    "  \n",
    "        nomiantor +=ngrams[n_gram_text]\n",
    "      if n_minus_one_grams_text in n_minus_one_grams:\n",
    "  \n",
    "        dominator+= n_minus_one_grams[n_minus_one_grams_text]\n",
    "\n",
    "      elif n==1:\n",
    "        dominator += tokens[n_minus_one_grams_text]\n",
    "      prob=nomiantor /dominator\n",
    "      prob_list.append(prob) # for one doc\n",
    "    probablities.append(prob_list) # for all docs\n",
    "    \n",
    "  return probablities\n",
    "    "
   ]
  },
  {
   "cell_type": "code",
   "execution_count": 11,
   "metadata": {},
   "outputs": [
    {
     "data": {
      "text/plain": [
       "[(('لقاح', 'كورونا'), 1369),\n",
       " (('الجرعة', 'الاولى'), 665),\n",
       " (('الاولى', 'لقاح'), 574),\n",
       " (('كورونا', 'باد'), 469),\n",
       " (('يتلقى', 'الجرعة'), 424),\n",
       " (('جرعة', 'لقاح'), 400),\n",
       " (('لقاح', 'باد'), 385),\n",
       " (('لقاح', 'فايزر'), 333),\n",
       " (('فيروس', 'كورونا'), 313),\n",
       " (('الجرعة', 'الثانية'), 308)]"
      ]
     },
     "execution_count": 11,
     "metadata": {},
     "output_type": "execute_result"
    }
   ],
   "source": [
    "prob=convert_ngrams_probablities(3,corpus)\n",
    "result=get_n_grams(corpus,2)\n",
    "# print(result)\n",
    "# # result.\n",
    "result.most_common(10)\n"
   ]
  },
  {
   "cell_type": "code",
   "execution_count": 12,
   "metadata": {},
   "outputs": [
    {
     "name": "stdout",
     "output_type": "stream",
     "text": [
      "[7.0, 0.5714285714285714, 0.2857142857142857, 0.5, 0.007874015748031496, 1.0, 1.0, 1.0, 1.0, 1.0, 1.0, 1.0, 1.0, 1.0, 1.0, 0.047619047619047616, 1.0, 1.0, 1.0, 1.0, 0.09090909090909091, 1.0, 1.0, 0.5, 0.3333333333333333, 1.0, 1.0]\n"
     ]
    }
   ],
   "source": [
    "print((prob[0]))"
   ]
  },
  {
   "cell_type": "code",
   "execution_count": 13,
   "metadata": {},
   "outputs": [
    {
     "name": "stdout",
     "output_type": "stream",
     "text": [
      "[1.0, 1.0, 1.0, 0.25, 1.0, 0.125, 0.03003003003003003, 0.06666666666666667, 1.0, 1.0, 1.0, 0.1111111111111111, 1.0, 1.0, 1.0, 1.0, 1.0, 1.0, 1.0, 1.0, 1.0, 1.0, 1.0, 1.0, 1.0, 1.0, 1.0, 1.0, 1.0, 1.0]\n"
     ]
    }
   ],
   "source": [
    "print(prob[100])"
   ]
  },
  {
   "cell_type": "code",
   "execution_count": 14,
   "metadata": {},
   "outputs": [],
   "source": [
    "from nltk.tokenize import sent_tokenize, word_tokenize\n",
    "import gensim\n",
    "from gensim.models import Word2Vec"
   ]
  },
  {
   "cell_type": "code",
   "execution_count": 15,
   "metadata": {},
   "outputs": [],
   "source": [
    "def get_word_embeddings(corpus, min_count=1, vector_size=100, window=5, sg = 1):\n",
    "\tdata = []\n",
    "\tfor i in range(len(corpus)):\n",
    "\t\ttemp = []\n",
    "\t\tfor j in corpus[i].split():\n",
    "\t\t\ttemp.append(j)\n",
    "\t\tdata.append(temp)\n",
    "\t# IMP Note: If the lines below result in an error, change size -> vector_size. It's a version variable naming issue.\n",
    "\t# Create CBOW model\n",
    "\tmodel1 = gensim.models.Word2Vec(data, min_count=min_count, vector_size =vector_size, window=window)\n",
    "\t# Create Skip Gram model\n",
    "\tmodel2 = gensim.models.Word2Vec(data, min_count=min_count, vector_size =vector_size, window=window, sg=sg)\n",
    "\treturn model1, model2"
   ]
  },
  {
   "cell_type": "code",
   "execution_count": 16,
   "metadata": {},
   "outputs": [],
   "source": [
    "cbowModel, sgModel = get_word_embeddings(corpus)"
   ]
  },
  {
   "cell_type": "code",
   "execution_count": 17,
   "metadata": {},
   "outputs": [
    {
     "name": "stdout",
     "output_type": "stream",
     "text": [
      "Cosine similarity between 'لقاح' and 'كورونا' - CBOW :  0.99893343\n",
      "Cosine similarity between 'لقاح' and 'صيفي' - CBOW :  0.7454977\n",
      "Cosine similarity between 'لقاح' and 'كورونا' - Skip Gram :  0.8463091\n",
      "Cosine similarity between 'لقاح' and 'صيفي' - Skip Gram :  0.67886627\n"
     ]
    }
   ],
   "source": [
    "# For CBOW\n",
    "print(\"Cosine similarity between 'لقاح' \" + \"and 'كورونا' - CBOW : \", cbowModel.wv.similarity('لقاح', 'كورونا'))\n",
    "print(\"Cosine similarity between 'لقاح' \" + \"and 'صيفي' - CBOW : \", cbowModel.wv.similarity('لقاح', 'صيفي'))\n",
    "# For Skip Gram\n",
    "print(\"Cosine similarity between 'لقاح' \" + \"and 'كورونا' - Skip Gram : \",\tsgModel.wv.similarity('لقاح', 'كورونا'))\n",
    "print(\"Cosine similarity between 'لقاح' \" + \"and 'صيفي' - Skip Gram : \", sgModel.wv.similarity('لقاح', 'صيفي'))"
   ]
  },
  {
   "cell_type": "code",
   "execution_count": 18,
   "metadata": {},
   "outputs": [
    {
     "ename": "NameError",
     "evalue": "name 'Train_X_Tfidf' is not defined",
     "output_type": "error",
     "traceback": [
      "\u001b[1;31m---------------------------------------------------------------------------\u001b[0m",
      "\u001b[1;31mNameError\u001b[0m                                 Traceback (most recent call last)",
      "\u001b[1;32m~\\AppData\\Local\\Temp\\ipykernel_17184\\26286139.py\u001b[0m in \u001b[0;36m<module>\u001b[1;34m\u001b[0m\n\u001b[0;32m      1\u001b[0m \u001b[1;31m# fit the training dataset on the NB classifier\u001b[0m\u001b[1;33m\u001b[0m\u001b[1;33m\u001b[0m\u001b[1;33m\u001b[0m\u001b[0m\n\u001b[0;32m      2\u001b[0m \u001b[0mNaive\u001b[0m \u001b[1;33m=\u001b[0m \u001b[0mnaive_bayes\u001b[0m\u001b[1;33m.\u001b[0m\u001b[0mMultinomialNB\u001b[0m\u001b[1;33m(\u001b[0m\u001b[1;33m)\u001b[0m\u001b[1;33m\u001b[0m\u001b[1;33m\u001b[0m\u001b[0m\n\u001b[1;32m----> 3\u001b[1;33m \u001b[0mNaive\u001b[0m\u001b[1;33m.\u001b[0m\u001b[0mfit\u001b[0m\u001b[1;33m(\u001b[0m\u001b[0mTrain_X_Tfidf\u001b[0m\u001b[1;33m,\u001b[0m\u001b[0mTrain_Y\u001b[0m\u001b[1;33m)\u001b[0m\u001b[1;33m\u001b[0m\u001b[1;33m\u001b[0m\u001b[0m\n\u001b[0m\u001b[0;32m      4\u001b[0m \u001b[1;31m# predict the labels on validation dataset\u001b[0m\u001b[1;33m\u001b[0m\u001b[1;33m\u001b[0m\u001b[1;33m\u001b[0m\u001b[0m\n\u001b[0;32m      5\u001b[0m \u001b[0mpredictions_NB\u001b[0m \u001b[1;33m=\u001b[0m \u001b[0mNaive\u001b[0m\u001b[1;33m.\u001b[0m\u001b[0mpredict\u001b[0m\u001b[1;33m(\u001b[0m\u001b[0mTest_X_Tfidf\u001b[0m\u001b[1;33m)\u001b[0m\u001b[1;33m\u001b[0m\u001b[1;33m\u001b[0m\u001b[0m\n",
      "\u001b[1;31mNameError\u001b[0m: name 'Train_X_Tfidf' is not defined"
     ]
    }
   ],
   "source": [
    "# fit the training dataset on the NB classifier\n",
    "Naive = naive_bayes.MultinomialNB()\n",
    "Naive.fit(Train_X_Tfidf,Train_Y)\n",
    "# predict the labels on validation dataset\n",
    "predictions_NB = Naive.predict(Test_X_Tfidf)\n",
    "# Use accuracy_score function to get the accuracy\n",
    "print(\"Naive Bayes Accuracy Score -> \",accuracy_score(predictions_NB, Test_Y)*100)"
   ]
  },
  {
   "cell_type": "markdown",
   "metadata": {},
   "source": []
  }
 ],
 "metadata": {
  "kernelspec": {
   "display_name": "Python 3",
   "language": "python",
   "name": "python3"
  },
  "language_info": {
   "codemirror_mode": {
    "name": "ipython",
    "version": 3
   },
   "file_extension": ".py",
   "mimetype": "text/x-python",
   "name": "python",
   "nbconvert_exporter": "python",
   "pygments_lexer": "ipython3",
   "version": "3.7.12"
  },
  "vscode": {
   "interpreter": {
    "hash": "fcf9cbd0c10e7b20be0354504d5dd91617ed7515deed89fb2407bea1e8233e1a"
   }
  }
 },
 "nbformat": 4,
 "nbformat_minor": 2
}
