{
 "cells": [
  {
   "cell_type": "code",
   "execution_count": 1,
   "metadata": {},
   "outputs": [],
   "source": [
    "import pandas as pd\n",
    "from sklearn.feature_extraction.text import TfidfVectorizer,CountVectorizer,TfidfTransformer \n",
    "import numpy\n",
    "import nltk, re, string, collections\n",
    "from nltk.util import ngrams"
   ]
  },
  {
   "cell_type": "code",
   "execution_count": 2,
   "metadata": {},
   "outputs": [],
   "source": [
    "def read_cleaned_data_set():\n",
    "    file = open(\"output/tokens_no_stopwords_train.txt\", encoding='utf-8')\n",
    "    corpus =[]\n",
    "    lines = file.readlines()\n",
    "    for line in lines:\n",
    "        result=line.rstrip('\\n')\n",
    "        if len(result)>0:\n",
    "            result = result[1:len(result)-2]\n",
    "            result=result.replace(\",\",\"\")\n",
    "            result= result.replace(\"'\",\"\")\n",
    "        \n",
    "            corpus.append(result)\n",
    "    return corpus"
   ]
  },
  {
   "cell_type": "code",
   "execution_count": 3,
   "metadata": {},
   "outputs": [],
   "source": [
    "corpus =read_cleaned_data_set()\n"
   ]
  },
  {
   "cell_type": "code",
   "execution_count": 4,
   "metadata": {},
   "outputs": [],
   "source": [
    "def get_TF_IDF(docs): \n",
    "    #create tf-idf vector & enable idf to calculate them in one steps\n",
    "    tfIdfVectorizer=TfidfVectorizer(use_idf=True)\n",
    "    #get values for docs\n",
    "    tfIdf = tfIdfVectorizer.fit_transform(docs)\n",
    "    # get first tf-idfs for first doc only to be visualized\n",
    "    # get features names mean get words\n",
    "    df = pd.DataFrame(tfIdf[0].T.todense(), index=tfIdfVectorizer.get_feature_names(), columns=[\"TF-IDF\"])\n",
    "    #sorting them\n",
    "    df = df.sort_values('TF-IDF', ascending=False)\n",
    "    #show first 15 of them \n",
    "    print (df.head(15))\n",
    "    \n"
   ]
  },
  {
   "cell_type": "code",
   "execution_count": 5,
   "metadata": {},
   "outputs": [
    {
     "name": "stdout",
     "output_type": "stream",
     "text": [
      "            TF-IDF\n",
      "صيفي      0.243324\n",
      "السيرنجة  0.243324\n",
      "مزايا     0.243324\n",
      "بولو      0.243324\n",
      "اصغر      0.232552\n",
      "مؤهل      0.232552\n",
      "الشتاء    0.224910\n",
      "لابس      0.224910\n",
      "تصوير     0.218981\n",
      "الابرة    0.210042\n",
      "يعنى      0.206495\n",
      "غيتس      0.203366\n",
      "عز        0.198035\n",
      "بيل       0.195723\n",
      "احدى      0.191628\n"
     ]
    },
    {
     "name": "stderr",
     "output_type": "stream",
     "text": [
      "c:\\Users\\rorod\\anaconda3\\lib\\site-packages\\sklearn\\utils\\deprecation.py:87: FutureWarning: Function get_feature_names is deprecated; get_feature_names is deprecated in 1.0 and will be removed in 1.2. Please use get_feature_names_out instead.\n",
      "  warnings.warn(msg, category=FutureWarning)\n"
     ]
    }
   ],
   "source": [
    "get_TF_IDF(corpus)"
   ]
  },
  {
   "cell_type": "code",
   "execution_count": 6,
   "metadata": {},
   "outputs": [],
   "source": [
    "def get_tokens_freq(corpus):\n",
    "    # corpus_new = corpus.split()\n",
    "    tokens ={}\n",
    "    for text in corpus:\n",
    "        text = text.split()\n",
    "        for value in text:\n",
    "            if value in tokens :\n",
    "                tokens[value]+=1\n",
    "            else:\n",
    "                tokens[value]=1\n",
    "    return tokens"
   ]
  },
  {
   "cell_type": "code",
   "execution_count": 32,
   "metadata": {},
   "outputs": [],
   "source": [
    "def get_n_grams(corpus, n_gram):\n",
    "    all_n_grams=[]\n",
    "    for text in corpus:\n",
    "        padding = [\"باد\"]*(n_gram-1)\n",
    "        text = text.split()\n",
    "        text = padding+ text+padding\n",
    "        n_grams = ngrams(text, n_gram)\n",
    "        all_n_grams+=n_grams\n",
    "    ngramFreq = collections.Counter(all_n_grams)\n",
    "    return ngramFreq\n"
   ]
  },
  {
   "cell_type": "code",
   "execution_count": 37,
   "metadata": {},
   "outputs": [],
   "source": [
    "def convert_ngrams_probablities( n,corpus):\n",
    "  probablities =[]\n",
    "  ngrams= get_n_grams(corpus,n)\n",
    "  \n",
    "  # print(\"kdkdk\",ngrams)\n",
    "  if n>1:\n",
    "    n_minus_one_grams = get_n_grams(corpus, n-1)\n",
    "  tokens =get_tokens_freq(corpus)\n",
    "  for text in corpus:\n",
    "    padding = [\"باد\"]*(n-1)\n",
    "    text_value=text.split()\n",
    "    text_value= padding+text_value+padding\n",
    "    prob_list= []\n",
    "    for index in range(n, len(text_value)-n) :\n",
    "      n_gram_text = tuple(text_value[index-n:index ])\n",
    "      n_minus_one_grams_text = tuple(text_value[index-n:index-1])\n",
    "      #here to add one smooth padding\n",
    "      # nomiantor=1\n",
    "      # dominator=len(tokens) \n",
    "      nomiantor=0.0\n",
    "      dominator=0.0\n",
    "      if n_gram_text in ngrams:\n",
    "  \n",
    "        nomiantor +=ngrams[n_gram_text]\n",
    "      if n_minus_one_grams_text in n_minus_one_grams:\n",
    "  \n",
    "        dominator+= n_minus_one_grams[n_minus_one_grams_text]\n",
    "\n",
    "      elif n==1:\n",
    "        dominator += tokens[n_minus_one_grams_text]\n",
    "      prob=nomiantor /dominator\n",
    "      prob_list.append(prob) # for one doc\n",
    "    probablities.append(prob_list) # for all docs\n",
    "    \n",
    "  return probablities\n",
    "    "
   ]
  },
  {
   "cell_type": "code",
   "execution_count": 38,
   "metadata": {},
   "outputs": [
    {
     "data": {
      "text/plain": [
       "[(('لقاح', 'كورونا'), 1369),\n",
       " (('الجرعة', 'الاولى'), 665),\n",
       " (('الاولى', 'لقاح'), 574),\n",
       " (('كورونا', 'باد'), 469),\n",
       " (('يتلقى', 'الجرعة'), 424),\n",
       " (('جرعة', 'لقاح'), 400),\n",
       " (('لقاح', 'باد'), 385),\n",
       " (('لقاح', 'فايزر'), 333),\n",
       " (('فيروس', 'كورونا'), 313),\n",
       " (('الجرعة', 'الثانية'), 308)]"
      ]
     },
     "execution_count": 38,
     "metadata": {},
     "output_type": "execute_result"
    }
   ],
   "source": [
    "prob=convert_ngrams_probablities(3,corpus)\n",
    "result=get_n_grams(corpus,2)\n",
    "# print(result)\n",
    "# # result.\n",
    "result.most_common(10)\n"
   ]
  },
  {
   "cell_type": "code",
   "execution_count": 39,
   "metadata": {},
   "outputs": [
    {
     "name": "stdout",
     "output_type": "stream",
     "text": [
      "[7.0, 0.5714285714285714, 0.2857142857142857, 0.5, 0.007874015748031496, 1.0, 1.0, 1.0, 1.0, 1.0, 1.0, 1.0, 1.0, 1.0, 1.0, 0.047619047619047616, 1.0, 1.0, 1.0, 1.0, 0.09090909090909091, 1.0, 1.0, 0.5, 0.3333333333333333, 1.0, 1.0]\n"
     ]
    }
   ],
   "source": [
    "print((prob[0]))"
   ]
  },
  {
   "cell_type": "code",
   "execution_count": 40,
   "metadata": {},
   "outputs": [
    {
     "name": "stdout",
     "output_type": "stream",
     "text": [
      "[1.0, 1.0, 1.0, 0.25, 1.0, 0.125, 0.03003003003003003, 0.06666666666666667, 1.0, 1.0, 1.0, 0.1111111111111111, 1.0, 1.0, 1.0, 1.0, 1.0, 1.0, 1.0, 1.0, 1.0, 1.0, 1.0, 1.0, 1.0, 1.0, 1.0, 1.0, 1.0, 1.0]\n"
     ]
    }
   ],
   "source": [
    "print(prob[100])"
   ]
  }
 ],
 "metadata": {
  "kernelspec": {
   "display_name": "Python 3 (ipykernel)",
   "language": "python",
   "name": "python3"
  },
  "language_info": {
   "codemirror_mode": {
    "name": "ipython",
    "version": 3
   },
   "file_extension": ".py",
   "mimetype": "text/x-python",
   "name": "python",
   "nbconvert_exporter": "python",
   "pygments_lexer": "ipython3",
   "version": "3.9.12"
  },
  "vscode": {
   "interpreter": {
    "hash": "0de4e91a703ed839300569d00f5f7f96e515c5b82ac00b296860b354eb12ca4a"
   }
  }
 },
 "nbformat": 4,
 "nbformat_minor": 2
}
