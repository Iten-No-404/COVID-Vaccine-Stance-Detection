{
 "cells": [
  {
   "cell_type": "code",
   "execution_count": null,
   "metadata": {},
   "outputs": [],
   "source": [
    "import numpy as np\n",
    "import pandas as pd\n",
    "import nltk, re, string, collections\n",
    "from nltk import pos_tag\n",
    "from nltk.util import ngrams\n",
    "from nltk.tokenize import word_tokenize\n",
    "from nltk.stem import WordNetLemmatizer\n",
    "from nltk.corpus import stopwords, wordnet as wn\n",
    "from sklearn.preprocessing import LabelEncoder\n",
    "from collections import defaultdict\n",
    "from sklearn import model_selection, naive_bayes, svm\n",
    "from sklearn.metrics import accuracy_score\n",
    "from sklearn.feature_extraction.text import TfidfVectorizer,CountVectorizer,TfidfTransformer "
   ]
  },
  {
   "cell_type": "code",
   "execution_count": null,
   "metadata": {},
   "outputs": [],
   "source": [
    "def read_cleaned_data_set(filename=\"output/tokens_no_stopwords_train.txt\"):\n",
    "    file = open(filename, encoding='utf-8')\n",
    "    corpus =[]\n",
    "    lines = file.readlines()\n",
    "    for line in lines:\n",
    "        result=line.rstrip('\\n')\n",
    "        if len(result)>0:\n",
    "            result = result[1:len(result)-2]\n",
    "            result=result.replace(\",\",\"\")\n",
    "            result= result.replace(\"'\",\"\")\n",
    "        \n",
    "            corpus.append(result)\n",
    "    return corpus"
   ]
  },
  {
   "cell_type": "code",
   "execution_count": null,
   "metadata": {},
   "outputs": [],
   "source": [
    "corpus =read_cleaned_data_set()"
   ]
  },
  {
   "cell_type": "code",
   "execution_count": null,
   "metadata": {},
   "outputs": [],
   "source": [
    "corpus[0]"
   ]
  },
  {
   "cell_type": "code",
   "execution_count": null,
   "metadata": {},
   "outputs": [],
   "source": [
    "def get_TF_IDF(docs): \n",
    "    #create tf-idf vector & enable idf to calculate them in one steps\n",
    "    tfIdfVectorizer=TfidfVectorizer(use_idf=True)\n",
    "    #get values for docs\n",
    "    tfIdf = tfIdfVectorizer.fit_transform(docs)\n",
    "   \n",
    "    # get first tf-idfs for first doc only to be visualized\n",
    "    # get features names mean get words\n",
    "    df = pd.DataFrame(tfIdf[0].T.todense(), index=tfIdfVectorizer.get_feature_names(), columns=[\"TF-IDF\"])\n",
    "    #sorting them\n",
    "    df = df.sort_values('TF-IDF', ascending=False)\n",
    "    dict_res = df.to_dict()\n",
    "    dict_res= dict_res['TF-IDF']\n",
    "   \n",
    "    # print(df.head(15))\n",
    "    return dict_res,tfIdf\n",
    "\n",
    "    #show first 15 of them \n",
    "\n",
    "    \n"
   ]
  },
  {
   "cell_type": "code",
   "execution_count": null,
   "metadata": {},
   "outputs": [],
   "source": [
    "dict_res=get_TF_IDF(corpus)\n",
    "\n",
    "# print(dict_res)\n",
    "# print(tf_idf.vocabulary_)"
   ]
  },
  {
   "cell_type": "code",
   "execution_count": null,
   "metadata": {},
   "outputs": [],
   "source": [
    "def assign_tf_idf(corpus,dict_res):\n",
    "    td_idf_sentences=[]\n",
    "    for text in corpus:\n",
    "        tf_idf=[] \n",
    "        for value in text:\n",
    "            if value in dict_res:\n",
    "                tf_idf.append(dict_res[value])\n",
    "        td_idf_sentences.append(tf_idf)\n",
    "    return td_idf_sentences"
   ]
  },
  {
   "cell_type": "code",
   "execution_count": null,
   "metadata": {},
   "outputs": [],
   "source": [
    "# td_idf_sentences=assign_tf_idf(corpus,dict_res)\n",
    "# print(td_idf_sentences[0])\n",
    "#changed "
   ]
  },
  {
   "cell_type": "code",
   "execution_count": null,
   "metadata": {},
   "outputs": [],
   "source": [
    "def get_tokens_freq(corpus):\n",
    "    # corpus_new = corpus.split()\n",
    "    tokens ={}\n",
    "    for text in corpus:\n",
    "        text = text.split()\n",
    "        for value in text:\n",
    "            if value in tokens :\n",
    "                tokens[value]+=1\n",
    "            else:\n",
    "                tokens[value]=1\n",
    "    return tokens"
   ]
  },
  {
   "cell_type": "code",
   "execution_count": null,
   "metadata": {},
   "outputs": [],
   "source": [
    "def get_n_grams(corpus, n_gram):\n",
    "    all_n_grams=[]\n",
    "    for text in corpus:\n",
    "        padding = [\"باد\"]*(n_gram-1)\n",
    "        text = text.split()\n",
    "        text = padding+ text+padding\n",
    "        n_grams = ngrams(text, n_gram)\n",
    "        all_n_grams+=n_grams\n",
    "    ngramFreq = collections.Counter(all_n_grams)\n",
    "    return ngramFreq\n"
   ]
  },
  {
   "cell_type": "code",
   "execution_count": null,
   "metadata": {},
   "outputs": [],
   "source": [
    "def convert_ngrams_probablities( n,corpus):\n",
    "  probablities =[]\n",
    "  ngrams= get_n_grams(corpus,n)\n",
    "  \n",
    "  # print(\"kdkdk\",ngrams)\n",
    "  if n>1:\n",
    "    n_minus_one_grams = get_n_grams(corpus, n-1)\n",
    "  tokens =get_tokens_freq(corpus)\n",
    "  for text in corpus:\n",
    "    padding = [\"باد\"]*(n-1)\n",
    "    text_value=text.split()\n",
    "    text_value= padding+text_value+padding\n",
    "    prob_list= 1.0\n",
    "    for index in range(n, len(text_value)-n) :\n",
    "      n_gram_text = tuple(text_value[index-n:index ])\n",
    "      n_minus_one_grams_text = tuple(text_value[index-n:index-1])\n",
    "      #here to add one smooth padding\n",
    "      # nomiantor=1\n",
    "      # dominator=len(tokens) \n",
    "      nomiantor=0.0\n",
    "      dominator=0.0\n",
    "      if n_gram_text in ngrams:\n",
    "  \n",
    "        nomiantor +=ngrams[n_gram_text]\n",
    "      if n_minus_one_grams_text in n_minus_one_grams:\n",
    "  \n",
    "        dominator+= n_minus_one_grams[n_minus_one_grams_text]\n",
    "\n",
    "      elif n==1:\n",
    "        dominator += tokens[n_minus_one_grams_text]\n",
    "      prob=nomiantor /dominator\n",
    "      prob_list*=prob # for one doc\n",
    "    \n",
    "    probablities.append(prob_list) # for all docs\n",
    "    \n",
    "  return probablities\n",
    "    "
   ]
  },
  {
   "cell_type": "code",
   "execution_count": null,
   "metadata": {},
   "outputs": [],
   "source": [
    "prob=convert_ngrams_probablities(3,corpus)\n",
    "result=get_n_grams(corpus,2)\n",
    "# print(result)\n",
    "# # result.\n",
    "result.most_common(10)\n"
   ]
  },
  {
   "cell_type": "code",
   "execution_count": null,
   "metadata": {},
   "outputs": [],
   "source": [
    "print((prob[0]))"
   ]
  },
  {
   "cell_type": "code",
   "execution_count": null,
   "metadata": {},
   "outputs": [],
   "source": [
    "print(prob[100])"
   ]
  },
  {
   "cell_type": "code",
   "execution_count": null,
   "metadata": {},
   "outputs": [],
   "source": [
    "from nltk.tokenize import sent_tokenize, word_tokenize\n",
    "import gensim\n",
    "from gensim.models import Word2Vec"
   ]
  },
  {
   "cell_type": "code",
   "execution_count": null,
   "metadata": {},
   "outputs": [],
   "source": [
    "def get_word_embeddings(corpus, min_count=1, vector_size=100, window=5, sg = 1):\n",
    "\tdata = corpus.copy()#[]\n",
    "\t# for i in range(len(corpus)):\n",
    "\t# \ttemp = []\n",
    "\t# \tfor j in corpus[i].split():\n",
    "\t# \t\ttemp.append(j)\n",
    "\t# \tdata.append(temp)\n",
    "\t# IMP Note: If the lines below result in an error, change size -> vector_size. It's a version variable naming issue.\n",
    "\t# Create CBOW model\n",
    "\tmodel1 = gensim.models.Word2Vec(data, min_count=min_count, vector_size =vector_size, window=window)\n",
    "\t# Create Skip Gram model\n",
    "\tmodel2 = gensim.models.Word2Vec(data, min_count=min_count, vector_size =vector_size, window=window, sg=sg)\n",
    "\treturn model1, model2"
   ]
  },
  {
   "cell_type": "code",
   "execution_count": null,
   "metadata": {},
   "outputs": [],
   "source": [
    "class MeanEmbeddingVectorizer(object):\n",
    "    def __init__(self, word2vec):\n",
    "        self.word2vec = word2vec\n",
    "        # if a text is empty we should return a vector of zeros\n",
    "        # with the same dimensionality as all the other vectors\n",
    "        self.dim = len(next(iter(word2vec.values())))\n",
    "\n",
    "    def fit(self, X, y):\n",
    "        return self\n",
    "\n",
    "    def transform(self, X):\n",
    "        return np.array([\n",
    "            np.mean([self.word2vec[w] for w in words if w in self.word2vec]\n",
    "                    or [np.zeros(self.dim)], axis=0)\n",
    "            for words in X\n",
    "        ])"
   ]
  },
  {
   "cell_type": "code",
   "execution_count": 26,
   "metadata": {},
   "outputs": [],
   "source": [
    "def get_word_embeddings_features(corpus):\n",
    "    cbowModel, sgModel = get_word_embeddings(corpus)\n",
    "    # # For CBOW\n",
    "    # print(\"Cosine similarity between 'لقاح' \" + \"and 'كورونا' - CBOW : \", cbowModel.wv.similarity('لقاح', 'كورونا'))\n",
    "    # print(\"Cosine similarity between 'لقاح' \" + \"and 'صيفي' - CBOW : \", cbowModel.wv.similarity('لقاح', 'صيفي'))\n",
    "    # # For Skip Gram\n",
    "    # print(\"Cosine similarity between 'لقاح' \" + \"and 'كورونا' - Skip Gram : \",\tsgModel.wv.similarity('لقاح', 'كورونا'))\n",
    "    # print(\"Cosine similarity between 'لقاح' \" + \"and 'صيفي' - Skip Gram : \", sgModel.wv.similarity('لقاح', 'صيفي'))\n",
    "    w2vcbow = dict(zip(cbowModel.wv.index_to_key, cbowModel.wv.vectors))\n",
    "    w2vsg = dict(zip(sgModel.wv.index_to_key, sgModel.wv.vectors))\n",
    "    cbow = MeanEmbeddingVectorizer(w2vcbow)\n",
    "    X_train_cbow_w2v = cbow.transform(corpus)\n",
    "    sg = MeanEmbeddingVectorizer(w2vsg)\n",
    "    X_train_sg_w2v = sg.transform(corpus)\n",
    "    return X_train_cbow_w2v, X_train_sg_w2v"
   ]
  },
  {
   "cell_type": "code",
   "execution_count": null,
   "metadata": {},
   "outputs": [],
   "source": [
    "# X_train_cbow_w2v, X_train_sg_w2v = get_word_embeddings_features(corpus)"
   ]
  }
 ],
 "metadata": {
  "kernelspec": {
   "display_name": "base",
   "language": "python",
   "name": "python3"
  },
  "language_info": {
   "codemirror_mode": {
    "name": "ipython",
    "version": 3
   },
   "file_extension": ".py",
   "mimetype": "text/x-python",
   "name": "python",
   "nbconvert_exporter": "python",
   "pygments_lexer": "ipython3",
   "version": "3.7.15"
  },
  "vscode": {
   "interpreter": {
    "hash": "8091afc18dd617945c9068b3bbeac349744316d3496a8fb9601c7f2d857f79fb"
   }
  }
 },
 "nbformat": 4,
 "nbformat_minor": 2
}
